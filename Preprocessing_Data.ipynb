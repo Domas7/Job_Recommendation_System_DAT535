{
 "cells": [
  {
   "cell_type": "markdown",
   "metadata": {},
   "source": [
    "### Import Libraries\n",
    "In this section, we import the necessary libraries for our data processing task."
   ]
  },
  {
   "cell_type": "code",
   "execution_count": 2,
   "metadata": {},
   "outputs": [],
   "source": [
    "from pyspark import SparkContext, SparkConf\n",
    "import re\n",
    "import math"
   ]
  },
  {
   "cell_type": "markdown",
   "metadata": {},
   "source": [
    "### Create Cleaning Pipeline\n",
    "This function initializes a data cleaning pipeline using Spark. It reads raw text data, groups lines into job postings, and applies text cleaning and field extraction. The pipeline processes the data in several steps:\n",
    "- **Map to Job Postings**: Groups lines into individual job postings based on start and end markers.\n",
    "- **Clean Text**: Converts text to lowercase, removes punctuation, and standardizes common terms.\n",
    "- **Extract Fields**: Uses regular expressions to extract specific fields like job title, description, skills, and salary from each posting.\n",
    "- **Remove Duplicates**: Ensures each job posting is unique by removing duplicates.\n",
    "- **Calculate Statistics**: Computes statistics such as the total number of postings and those with missing values."
   ]
  },
  {
   "cell_type": "code",
   "execution_count": 3,
   "metadata": {},
   "outputs": [],
   "source": [
    "def create_cleaning_pipeline(sc, input_file):\n",
    "    \"\"\"\n",
    "    Enhanced cleaning pipeline with better preprocessing\n",
    "    \"\"\"\n",
    "    sc.setLogLevel(\"WARN\")\n",
    "    \n",
    "    # Read the raw text file\n",
    "    raw_data = sc.textFile(input_file, minPartitions=100)\n",
    "\n",
    "    # Step 1: MAP - Group lines into job postings\n",
    "    def map_to_job_postings(lines):\n",
    "        current_posting = []\n",
    "        for line in lines:\n",
    "            if \"<<<START_JOB_POSTING>>>\" in line:\n",
    "                if current_posting:\n",
    "                    yield \"\\n\".join(current_posting)\n",
    "                current_posting = []\n",
    "            elif \"<<<END_JOB_POSTING>>>\" in line:\n",
    "                if current_posting:\n",
    "                    yield \"\\n\".join(current_posting)\n",
    "                current_posting = []\n",
    "            else:\n",
    "                current_posting.append(line)\n",
    "    \n",
    "    job_postings = raw_data.mapPartitions(map_to_job_postings)\n",
    "    \n",
    "    # Step 2: MAP - Clean text and extract fields\n",
    "    def clean_text(text):\n",
    "        if not text:\n",
    "            return \"\"\n",
    "        text = text.lower()\n",
    "        text = re.sub(r'[^\\w\\s]', ' ', text)\n",
    "        replacements = {\n",
    "            'yrs': 'years',\n",
    "            'yr': 'year',\n",
    "            'exp': 'experience',\n",
    "            'min': 'minimum',\n",
    "            'max': 'maximum'\n",
    "        }\n",
    "        for old, new in replacements.items():\n",
    "            text = text.replace(old, new)\n",
    "        return ' '.join(text.split())\n",
    "    \n",
    "    def extract_fields(posting):\n",
    "        try:\n",
    "            # Extract all required fields\n",
    "            title_match = re.search(r'\\n(.*?) at (.*?)\\nPosted', posting)\n",
    "            job_title = clean_text(title_match.group(1)) if title_match else None\n",
    "            \n",
    "            # Extract description (everything between ABOUT THE ROLE and REQUIREMENTS)\n",
    "            desc_match = re.search(r'ABOUT THE ROLE\\n-+\\n(.*?)\\n\\nREQUIREMENTS', posting, re.DOTALL)\n",
    "            job_description = clean_text(desc_match.group(1)) if desc_match else None\n",
    "            \n",
    "            # Extract skills\n",
    "            skills_match = re.search(r'SKILLS NEEDED\\n-+\\n(.*?)\\n\\n', posting, re.DOTALL)\n",
    "            job_skills = clean_text(skills_match.group(1)) if skills_match else None\n",
    "            \n",
    "            # Extract industry\n",
    "            industry_match = re.search(r'\"Industry\":\"([^\"]+)\"', posting)\n",
    "            job_industry = clean_text(industry_match.group(1)) if industry_match else None\n",
    "            \n",
    "            # Extract location\n",
    "            location_match = re.search(r'Location: (.*?)\\n', posting)\n",
    "            job_location = clean_text(location_match.group(1)) if location_match else None\n",
    "            \n",
    "            # Extract experience\n",
    "            exp_match = re.search(r'Experience: (.*?)\\n', posting)\n",
    "            experience_level = clean_text(exp_match.group(1)) if exp_match else None\n",
    "            \n",
    "            # Extract salary range\n",
    "            salary_match = re.search(r'Salary: (.*?)\\n', posting)\n",
    "            salary_str = salary_match.group(1) if salary_match else \"\"\n",
    "            nums = re.findall(r'\\d+', salary_str)\n",
    "            min_salary = int(nums[0]) * 1000 if len(nums) >= 2 else None\n",
    "            max_salary = int(nums[1]) * 1000 if len(nums) >= 2 else None\n",
    "            \n",
    "            # Create tuple with all fields\n",
    "            result = (\n",
    "                job_title,\n",
    "                job_description,\n",
    "                job_skills,\n",
    "                job_industry,\n",
    "                job_location,\n",
    "                experience_level,\n",
    "                min_salary,\n",
    "                max_salary\n",
    "            )\n",
    "            \n",
    "            # Check if any required fields are missing\n",
    "            if any(x is None for x in result):\n",
    "                return None\n",
    "                \n",
    "            return result\n",
    "            \n",
    "        except Exception as e:\n",
    "            return None\n",
    "    \n",
    "    # Extract and clean fields\n",
    "    cleaned_postings = job_postings.map(extract_fields).filter(lambda x: x is not None)\n",
    "    \n",
    "    # Remove duplicates based on all fields\n",
    "    unique_postings = cleaned_postings.distinct()\n",
    "    \n",
    "    # Calculate statistics\n",
    "    total_posts = unique_postings.count()\n",
    "    posts_with_missing = cleaned_postings.filter(lambda x: None in x).count()\n",
    "    \n",
    "    # Calculate salary statistics\n",
    "    salary_stats = unique_postings.map(\n",
    "        lambda x: (x[6], x[7])  # min and max salary\n",
    "    ).filter(\n",
    "        lambda x: x[0] is not None and x[1] is not None\n",
    "    ).mapValues(\n",
    "        lambda x: (x, 1)\n",
    "    ).reduceByKey(\n",
    "        lambda x, y: (x[0] + y[0], x[1] + y[1])\n",
    "    ).mapValues(\n",
    "        lambda x: x[0] / x[1]  # average salary\n",
    "    )\n",
    "    \n",
    "    print(f\"\\nProcessing Summary:\")\n",
    "\n",
    "    print_cleaning_statistics(raw_data, job_postings, cleaned_postings, unique_postings)\n",
    "    \n",
    "    return unique_postings.collect(), salary_stats.collect()\n"
   ]
  },
  {
   "cell_type": "code",
   "execution_count": 4,
   "metadata": {},
   "outputs": [],
   "source": [
    "# Create a new Spark context\n",
    "conf = SparkConf().setAppName(\"JobDataCleaning\") \\\n",
    "    .set(\"spark.executor.memory\", \"4g\") \\\n",
    "    .set(\"spark.driver.memory\", \"2g\") \\\n",
    "    .set(\"spark.default.parallelism\", \"100\")\n",
    "sc = SparkContext(conf=conf)\n",
    "\n",
    "# Process data\n",
    "input_file = \"hdfs:///user/ubuntu/job_descriptions_unstructured.txt\"\n",
    "final_data, stats = create_cleaning_pipeline(sc, input_file)\n"
   ]
  },
  {
   "cell_type": "code",
   "execution_count": 1,
   "metadata": {},
   "outputs": [],
   "source": [
    "def print_cleaning_statistics(raw_data, job_postings, cleaned_postings, unique_postings):\n",
    "\n",
    "    print(\"\\n=== Data Cleaning Statistics ===\")\n",
    "    print(f\"Initial raw lines: {raw_data.count():,}\")\n",
    "    print(f\"Initial job postings: {job_postings.count():,}\")\n",
    "    \n",
    "    # Salary statistics\n",
    "    salary_stats = unique_postings.filter(lambda x: x[6] is not None and x[7] is not None)\n",
    "    salary_count = salary_stats.count()\n",
    "    avg_min_salary = salary_stats.map(lambda x: x[6]).mean()\n",
    "    avg_max_salary = salary_stats.map(lambda x: x[7]).mean()\n",
    "    print(f\"\\nSalary Information:\")\n",
    "    print(f\"Postings with salary information: {salary_count:,}\")\n",
    "    print(f\"Average minimum salary: ${avg_min_salary:,.2f}\")\n",
    "    print(f\"Average maximum salary: ${avg_max_salary:,.2f}\")\n",
    "    \n",
    "    print(\"\\n=== Processing Complete ===\")"
   ]
  },
  {
   "cell_type": "code",
   "execution_count": null,
   "metadata": {},
   "outputs": [],
   "source": [
    "# Define columns for the CSV header\n",
    "columns = [\n",
    "    \"job_title\",\n",
    "    \"job_description\",\n",
    "    \"job_skills\",\n",
    "    \"job_industry\",\n",
    "    \"job_location\",\n",
    "    \"experience_level\",\n",
    "    \"min_salary\",\n",
    "    \"max_salary\"\n",
    "]\n",
    "\n",
    "# Save the cleaned data to CSV\n",
    "def row_to_csv(row):\n",
    "    # Convert each field to string and handle None values\n",
    "    csv_fields = [str(field) if field is not None else '' for field in row]\n",
    "    # Join fields with commas and properly escape any commas within fields\n",
    "    return ','.join(f'\"{field}\"' for field in csv_fields)\n",
    "\n",
    "# Create header\n",
    "header = ','.join(columns)"
   ]
  },
  {
   "cell_type": "markdown",
   "metadata": {},
   "source": [
    "### Write Data to CSV\n",
    "This section handles the export of processed data to a CSV file. It writes the cleaned job data to a specified output path, ensuring that the data is saved in a structured format for further analysis or use."
   ]
  },
  {
   "cell_type": "code",
   "execution_count": null,
   "metadata": {},
   "outputs": [],
   "source": [
    "import os\n",
    "import math\n",
    "from datetime import datetime\n",
    "    \n",
    "def write_data_to_csv(sc, final_data, header, output_path, batch_size=5000):\n",
    "    \n",
    "    print(f\"\\nStarting CSV export at {datetime.now().strftime('%H:%M:%S')}\")\n",
    "    print(f\"Total records to process: {len(final_data):,}\")\n",
    "    \n",
    "    # Ensure output directory exists\n",
    "    output_dir = os.path.dirname(output_path)\n",
    "    if output_dir and not os.path.exists(output_dir):\n",
    "        os.makedirs(output_dir)\n",
    "    \n",
    "    # Remove existing file if it exists\n",
    "    if os.path.exists(output_path):\n",
    "        os.remove(output_path)\n",
    "    \n",
    "    # Write header directly to file\n",
    "    with open(output_path, 'w') as f:\n",
    "        f.write(header + '\\n')\n",
    "    \n",
    "    # Process batches\n",
    "    num_batches = math.ceil(len(final_data) / batch_size)\n",
    "    print(f\"Processing in {num_batches} batches of {batch_size} records each\")\n",
    "    \n",
    "    for i in range(num_batches):\n",
    "        start_idx = i * batch_size\n",
    "        end_idx = min((i + 1) * batch_size, len(final_data))\n",
    "        batch_data = final_data[start_idx:end_idx]\n",
    "        \n",
    "        print(f\"\\nProcessing batch {i+1}/{num_batches} ({start_idx:,} to {end_idx:,} records)\")\n",
    "        \n",
    "        # Convert batch to CSV format\n",
    "        batch_rdd = sc.parallelize(batch_data).map(row_to_csv)\n",
    "        \n",
    "        # Save batch directly to main file\n",
    "        batch_rows = batch_rdd.collect()\n",
    "        with open(output_path, 'a') as f:\n",
    "            f.write('\\n'.join(batch_rows) + '\\n')\n",
    "        \n",
    "        print(f\"Batch {i+1} complete - {len(batch_rows):,} records written\")\n",
    "    \n",
    "    print(f\"\\nCSV export completed at {datetime.now().strftime('%H:%M:%S')}\")\n",
    "    print(f\"Data saved to: {output_path}\")\n",
    "    \n",
    "    # Verify file\n",
    "    with open(output_path, 'r') as f:\n",
    "        total_lines = sum(1 for _ in f)\n",
    "    print(f\"Total lines in output file: {total_lines:,} (including header)\")\n",
    "\n",
    "def write_stats_to_csv(sc, stats, stats_header, output_path):\n",
    "    \n",
    "    print(f\"\\nProcessing salary statistics at {datetime.now().strftime('%H:%M:%S')}\")\n",
    "    \n",
    "    # Ensure the output directory exists\n",
    "    output_dir = os.path.dirname(output_path)\n",
    "    if output_dir and not os.path.exists(output_dir):\n",
    "        os.makedirs(output_dir)\n",
    "    \n",
    "    # Remove existing file if it exists\n",
    "    if os.path.exists(output_path):\n",
    "        os.remove(output_path)\n",
    "    \n",
    "    # Format statistics with proper number formatting\n",
    "    formatted_stats = [(company, f\"{float(avg_salary):,.2f}\") for company, avg_salary in stats]\n",
    "    \n",
    "    # Calculate some summary statistics\n",
    "    salaries = [float(avg_salary) for _, avg_salary in formatted_stats]\n",
    "    if salaries:\n",
    "        avg_salary = sum(salaries) / len(salaries)\n",
    "        min_salary = min(salaries)\n",
    "        max_salary = max(salaries)\n",
    "        \n",
    "        print(\"\\nSalary Statistics Summary:\")\n",
    "        print(f\"Number of companies: {len(formatted_stats):,}\")\n",
    "        print(f\"Average salary across all companies: ${avg_salary:,.2f}\")\n",
    "        print(f\"Minimum average salary: ${min_salary:,.2f}\")\n",
    "        print(f\"Maximum average salary: ${max_salary:,.2f}\")\n",
    "        \n",
    "        # Show sample of data\n",
    "        print(\"\\nSample of company statistics (first 5):\")\n",
    "        for company, avg in formatted_stats[:5]:\n",
    "            print(f\"Company: {company}, Average Salary: ${float(avg):,.2f}\")\n",
    "    \n",
    "    # Write to file\n",
    "    with open(output_path, 'w') as f:\n",
    "        f.write(stats_header + '\\n')\n",
    "        for company, avg in formatted_stats:\n",
    "            f.write(f\"{company},{avg}\\n\")\n",
    "    \n",
    "    print(f\"\\nStatistics saved to: {output_path}\")\n",
    "    print(f\"Total companies in statistics file: {len(formatted_stats):,}\")\n"
   ]
  },
  {
   "cell_type": "code",
   "execution_count": null,
   "metadata": {},
   "outputs": [
    {
     "name": "stdout",
     "output_type": "stream",
     "text": [
      "\n",
      "Starting CSV export at 08:39:38\n",
      "Total records to process: 1,610,355\n",
      "Processing in 323 batches of 5000 records each\n",
      "\n",
      "Processing batch 1/323 (0 to 5,000 records)\n"
     ]
    },
    {
     "name": "stderr",
     "output_type": "stream",
     "text": [
      "                                                                                \r"
     ]
    },
    {
     "name": "stdout",
     "output_type": "stream",
     "text": [
      "Batch 1 complete - 5,000 records written\n",
      "\n",
      "Processing batch 2/323 (5,000 to 10,000 records)\n"
     ]
    },
    {
     "name": "stderr",
     "output_type": "stream",
     "text": [
      "                                                                                \r"
     ]
    },
    {
     "name": "stdout",
     "output_type": "stream",
     "text": [
      "Batch 2 complete - 5,000 records written\n",
      "\n",
      "Processing batch 3/323 (10,000 to 15,000 records)\n"
     ]
    },
    {
     "name": "stderr",
     "output_type": "stream",
     "text": [
      "                                                                                \r"
     ]
    },
    {
     "name": "stdout",
     "output_type": "stream",
     "text": [
      "Batch 3 complete - 5,000 records written\n",
      "\n",
      "Processing batch 4/323 (15,000 to 20,000 records)\n"
     ]
    },
    {
     "name": "stderr",
     "output_type": "stream",
     "text": [
      "                                                                                \r"
     ]
    },
    {
     "name": "stdout",
     "output_type": "stream",
     "text": [
      "Batch 4 complete - 5,000 records written\n",
      "\n",
      "Processing batch 5/323 (20,000 to 25,000 records)\n"
     ]
    },
    {
     "name": "stderr",
     "output_type": "stream",
     "text": [
      "                                                                                \r"
     ]
    },
    {
     "name": "stdout",
     "output_type": "stream",
     "text": [
      "Batch 5 complete - 5,000 records written\n",
      "\n",
      "Processing batch 6/323 (25,000 to 30,000 records)\n"
     ]
    },
    {
     "name": "stderr",
     "output_type": "stream",
     "text": [
      "                                                                                \r"
     ]
    },
    {
     "name": "stdout",
     "output_type": "stream",
     "text": [
      "Batch 6 complete - 5,000 records written\n",
      "\n",
      "Processing batch 7/323 (30,000 to 35,000 records)\n"
     ]
    },
    {
     "name": "stderr",
     "output_type": "stream",
     "text": [
      "                                                                                \r"
     ]
    },
    {
     "name": "stdout",
     "output_type": "stream",
     "text": [
      "Batch 7 complete - 5,000 records written\n",
      "\n",
      "Processing batch 8/323 (35,000 to 40,000 records)\n"
     ]
    },
    {
     "name": "stderr",
     "output_type": "stream",
     "text": [
      "                                                                                \r"
     ]
    },
    {
     "name": "stdout",
     "output_type": "stream",
     "text": [
      "Batch 8 complete - 5,000 records written\n",
      "\n",
      "Processing batch 9/323 (40,000 to 45,000 records)\n"
     ]
    },
    {
     "name": "stderr",
     "output_type": "stream",
     "text": [
      "                                                                                \r"
     ]
    },
    {
     "name": "stdout",
     "output_type": "stream",
     "text": [
      "Batch 9 complete - 5,000 records written\n",
      "\n",
      "Processing batch 10/323 (45,000 to 50,000 records)\n"
     ]
    },
    {
     "name": "stderr",
     "output_type": "stream",
     "text": [
      "                                                                                \r"
     ]
    },
    {
     "name": "stdout",
     "output_type": "stream",
     "text": [
      "Batch 10 complete - 5,000 records written\n",
      "\n",
      "Processing batch 11/323 (50,000 to 55,000 records)\n"
     ]
    },
    {
     "name": "stderr",
     "output_type": "stream",
     "text": [
      "                                                                                \r"
     ]
    },
    {
     "name": "stdout",
     "output_type": "stream",
     "text": [
      "Batch 11 complete - 5,000 records written\n",
      "\n",
      "Processing batch 12/323 (55,000 to 60,000 records)\n"
     ]
    },
    {
     "name": "stderr",
     "output_type": "stream",
     "text": [
      "                                                                                \r"
     ]
    },
    {
     "name": "stdout",
     "output_type": "stream",
     "text": [
      "Batch 12 complete - 5,000 records written\n",
      "\n",
      "Processing batch 13/323 (60,000 to 65,000 records)\n"
     ]
    },
    {
     "name": "stderr",
     "output_type": "stream",
     "text": [
      "                                                                                \r"
     ]
    },
    {
     "name": "stdout",
     "output_type": "stream",
     "text": [
      "Batch 13 complete - 5,000 records written\n",
      "\n",
      "Processing batch 14/323 (65,000 to 70,000 records)\n"
     ]
    },
    {
     "name": "stderr",
     "output_type": "stream",
     "text": [
      "                                                                                \r"
     ]
    },
    {
     "name": "stdout",
     "output_type": "stream",
     "text": [
      "Batch 14 complete - 5,000 records written\n",
      "\n",
      "Processing batch 15/323 (70,000 to 75,000 records)\n"
     ]
    },
    {
     "name": "stderr",
     "output_type": "stream",
     "text": [
      "                                                                                \r"
     ]
    },
    {
     "name": "stdout",
     "output_type": "stream",
     "text": [
      "Batch 15 complete - 5,000 records written\n",
      "\n",
      "Processing batch 16/323 (75,000 to 80,000 records)\n"
     ]
    },
    {
     "name": "stderr",
     "output_type": "stream",
     "text": [
      "                                                                                \r"
     ]
    },
    {
     "name": "stdout",
     "output_type": "stream",
     "text": [
      "Batch 16 complete - 5,000 records written\n",
      "\n",
      "Processing batch 17/323 (80,000 to 85,000 records)\n"
     ]
    },
    {
     "name": "stderr",
     "output_type": "stream",
     "text": [
      "                                                                                \r"
     ]
    },
    {
     "name": "stdout",
     "output_type": "stream",
     "text": [
      "Batch 17 complete - 5,000 records written\n",
      "\n",
      "Processing batch 18/323 (85,000 to 90,000 records)\n"
     ]
    },
    {
     "name": "stderr",
     "output_type": "stream",
     "text": [
      "                                                                                \r"
     ]
    },
    {
     "name": "stdout",
     "output_type": "stream",
     "text": [
      "Batch 18 complete - 5,000 records written\n",
      "\n",
      "Processing batch 19/323 (90,000 to 95,000 records)\n"
     ]
    },
    {
     "name": "stderr",
     "output_type": "stream",
     "text": [
      "                                                                                \r"
     ]
    },
    {
     "name": "stdout",
     "output_type": "stream",
     "text": [
      "Batch 19 complete - 5,000 records written\n",
      "\n",
      "Processing batch 20/323 (95,000 to 100,000 records)\n"
     ]
    },
    {
     "name": "stderr",
     "output_type": "stream",
     "text": [
      "                                                                                \r"
     ]
    },
    {
     "name": "stdout",
     "output_type": "stream",
     "text": [
      "Batch 20 complete - 5,000 records written\n",
      "\n",
      "Processing batch 21/323 (100,000 to 105,000 records)\n"
     ]
    },
    {
     "name": "stderr",
     "output_type": "stream",
     "text": [
      "                                                                                \r"
     ]
    },
    {
     "name": "stdout",
     "output_type": "stream",
     "text": [
      "Batch 21 complete - 5,000 records written\n",
      "\n",
      "Processing batch 22/323 (105,000 to 110,000 records)\n"
     ]
    },
    {
     "name": "stderr",
     "output_type": "stream",
     "text": [
      "                                                                                \r"
     ]
    },
    {
     "name": "stdout",
     "output_type": "stream",
     "text": [
      "Batch 22 complete - 5,000 records written\n",
      "\n",
      "Processing batch 23/323 (110,000 to 115,000 records)\n"
     ]
    },
    {
     "name": "stderr",
     "output_type": "stream",
     "text": [
      "                                                                                \r"
     ]
    },
    {
     "name": "stdout",
     "output_type": "stream",
     "text": [
      "Batch 23 complete - 5,000 records written\n",
      "\n",
      "Processing batch 24/323 (115,000 to 120,000 records)\n"
     ]
    },
    {
     "name": "stderr",
     "output_type": "stream",
     "text": [
      "                                                                                \r"
     ]
    },
    {
     "name": "stdout",
     "output_type": "stream",
     "text": [
      "Batch 24 complete - 5,000 records written\n",
      "\n",
      "Processing batch 25/323 (120,000 to 125,000 records)\n"
     ]
    },
    {
     "name": "stderr",
     "output_type": "stream",
     "text": [
      "                                                                                \r"
     ]
    },
    {
     "name": "stdout",
     "output_type": "stream",
     "text": [
      "Batch 25 complete - 5,000 records written\n",
      "\n",
      "Processing batch 26/323 (125,000 to 130,000 records)\n"
     ]
    },
    {
     "name": "stderr",
     "output_type": "stream",
     "text": [
      "                                                                                \r"
     ]
    },
    {
     "name": "stdout",
     "output_type": "stream",
     "text": [
      "Batch 26 complete - 5,000 records written\n",
      "\n",
      "Processing batch 27/323 (130,000 to 135,000 records)\n"
     ]
    },
    {
     "name": "stderr",
     "output_type": "stream",
     "text": [
      "                                                                                \r"
     ]
    },
    {
     "name": "stdout",
     "output_type": "stream",
     "text": [
      "Batch 27 complete - 5,000 records written\n",
      "\n",
      "Processing batch 28/323 (135,000 to 140,000 records)\n"
     ]
    },
    {
     "name": "stderr",
     "output_type": "stream",
     "text": [
      "                                                                                \r"
     ]
    },
    {
     "name": "stdout",
     "output_type": "stream",
     "text": [
      "Batch 28 complete - 5,000 records written\n",
      "\n",
      "Processing batch 29/323 (140,000 to 145,000 records)\n"
     ]
    },
    {
     "name": "stderr",
     "output_type": "stream",
     "text": [
      "                                                                                \r"
     ]
    },
    {
     "name": "stdout",
     "output_type": "stream",
     "text": [
      "Batch 29 complete - 5,000 records written\n",
      "\n",
      "Processing batch 30/323 (145,000 to 150,000 records)\n"
     ]
    },
    {
     "name": "stderr",
     "output_type": "stream",
     "text": [
      "                                                                                \r"
     ]
    },
    {
     "name": "stdout",
     "output_type": "stream",
     "text": [
      "Batch 30 complete - 5,000 records written\n",
      "\n",
      "Processing batch 31/323 (150,000 to 155,000 records)\n"
     ]
    },
    {
     "name": "stderr",
     "output_type": "stream",
     "text": [
      "                                                                                \r"
     ]
    },
    {
     "name": "stdout",
     "output_type": "stream",
     "text": [
      "Batch 31 complete - 5,000 records written\n",
      "\n",
      "Processing batch 32/323 (155,000 to 160,000 records)\n"
     ]
    },
    {
     "name": "stderr",
     "output_type": "stream",
     "text": [
      "                                                                                \r"
     ]
    },
    {
     "name": "stdout",
     "output_type": "stream",
     "text": [
      "Batch 32 complete - 5,000 records written\n",
      "\n",
      "Processing batch 33/323 (160,000 to 165,000 records)\n"
     ]
    },
    {
     "name": "stderr",
     "output_type": "stream",
     "text": [
      "                                                                                \r"
     ]
    },
    {
     "name": "stdout",
     "output_type": "stream",
     "text": [
      "Batch 33 complete - 5,000 records written\n",
      "\n",
      "Processing batch 34/323 (165,000 to 170,000 records)\n"
     ]
    },
    {
     "name": "stderr",
     "output_type": "stream",
     "text": [
      "                                                                                \r"
     ]
    },
    {
     "name": "stdout",
     "output_type": "stream",
     "text": [
      "Batch 34 complete - 5,000 records written\n",
      "\n",
      "Processing batch 35/323 (170,000 to 175,000 records)\n"
     ]
    },
    {
     "name": "stderr",
     "output_type": "stream",
     "text": [
      "                                                                                \r"
     ]
    },
    {
     "name": "stdout",
     "output_type": "stream",
     "text": [
      "Batch 35 complete - 5,000 records written\n",
      "\n",
      "Processing batch 36/323 (175,000 to 180,000 records)\n"
     ]
    },
    {
     "name": "stderr",
     "output_type": "stream",
     "text": [
      "                                                                                \r"
     ]
    },
    {
     "name": "stdout",
     "output_type": "stream",
     "text": [
      "Batch 36 complete - 5,000 records written\n",
      "\n",
      "Processing batch 37/323 (180,000 to 185,000 records)\n"
     ]
    },
    {
     "name": "stderr",
     "output_type": "stream",
     "text": [
      "                                                                                \r"
     ]
    },
    {
     "name": "stdout",
     "output_type": "stream",
     "text": [
      "Batch 37 complete - 5,000 records written\n",
      "\n",
      "Processing batch 38/323 (185,000 to 190,000 records)\n"
     ]
    },
    {
     "name": "stderr",
     "output_type": "stream",
     "text": [
      "                                                                                \r"
     ]
    },
    {
     "name": "stdout",
     "output_type": "stream",
     "text": [
      "Batch 38 complete - 5,000 records written\n",
      "\n",
      "Processing batch 39/323 (190,000 to 195,000 records)\n"
     ]
    },
    {
     "name": "stderr",
     "output_type": "stream",
     "text": [
      "                                                                                \r"
     ]
    },
    {
     "name": "stdout",
     "output_type": "stream",
     "text": [
      "Batch 39 complete - 5,000 records written\n",
      "\n",
      "Processing batch 40/323 (195,000 to 200,000 records)\n"
     ]
    },
    {
     "name": "stderr",
     "output_type": "stream",
     "text": [
      "                                                                                \r"
     ]
    },
    {
     "name": "stdout",
     "output_type": "stream",
     "text": [
      "Batch 40 complete - 5,000 records written\n",
      "\n",
      "Processing batch 41/323 (200,000 to 205,000 records)\n"
     ]
    },
    {
     "name": "stderr",
     "output_type": "stream",
     "text": [
      "                                                                                \r"
     ]
    },
    {
     "name": "stdout",
     "output_type": "stream",
     "text": [
      "Batch 41 complete - 5,000 records written\n",
      "\n",
      "Processing batch 42/323 (205,000 to 210,000 records)\n"
     ]
    },
    {
     "name": "stderr",
     "output_type": "stream",
     "text": [
      "                                                                                \r"
     ]
    },
    {
     "name": "stdout",
     "output_type": "stream",
     "text": [
      "Batch 42 complete - 5,000 records written\n",
      "\n",
      "Processing batch 43/323 (210,000 to 215,000 records)\n"
     ]
    },
    {
     "name": "stderr",
     "output_type": "stream",
     "text": [
      "                                                                                \r"
     ]
    },
    {
     "name": "stdout",
     "output_type": "stream",
     "text": [
      "Batch 43 complete - 5,000 records written\n",
      "\n",
      "Processing batch 44/323 (215,000 to 220,000 records)\n"
     ]
    },
    {
     "name": "stderr",
     "output_type": "stream",
     "text": [
      "                                                                                \r"
     ]
    },
    {
     "name": "stdout",
     "output_type": "stream",
     "text": [
      "Batch 44 complete - 5,000 records written\n",
      "\n",
      "Processing batch 45/323 (220,000 to 225,000 records)\n"
     ]
    },
    {
     "name": "stderr",
     "output_type": "stream",
     "text": [
      "                                                                                \r"
     ]
    },
    {
     "name": "stdout",
     "output_type": "stream",
     "text": [
      "Batch 45 complete - 5,000 records written\n",
      "\n",
      "Processing batch 46/323 (225,000 to 230,000 records)\n"
     ]
    },
    {
     "name": "stderr",
     "output_type": "stream",
     "text": [
      "                                                                                \r"
     ]
    },
    {
     "name": "stdout",
     "output_type": "stream",
     "text": [
      "Batch 46 complete - 5,000 records written\n",
      "\n",
      "Processing batch 47/323 (230,000 to 235,000 records)\n"
     ]
    },
    {
     "name": "stderr",
     "output_type": "stream",
     "text": [
      "                                                                                \r"
     ]
    },
    {
     "name": "stdout",
     "output_type": "stream",
     "text": [
      "Batch 47 complete - 5,000 records written\n",
      "\n",
      "Processing batch 48/323 (235,000 to 240,000 records)\n"
     ]
    },
    {
     "name": "stderr",
     "output_type": "stream",
     "text": [
      "                                                                                \r"
     ]
    },
    {
     "name": "stdout",
     "output_type": "stream",
     "text": [
      "Batch 48 complete - 5,000 records written\n",
      "\n",
      "Processing batch 49/323 (240,000 to 245,000 records)\n"
     ]
    },
    {
     "name": "stderr",
     "output_type": "stream",
     "text": [
      "                                                                                \r"
     ]
    },
    {
     "name": "stdout",
     "output_type": "stream",
     "text": [
      "Batch 49 complete - 5,000 records written\n",
      "\n",
      "Processing batch 50/323 (245,000 to 250,000 records)\n"
     ]
    },
    {
     "name": "stderr",
     "output_type": "stream",
     "text": [
      "                                                                                \r"
     ]
    },
    {
     "name": "stdout",
     "output_type": "stream",
     "text": [
      "Batch 50 complete - 5,000 records written\n",
      "\n",
      "Processing batch 51/323 (250,000 to 255,000 records)\n"
     ]
    },
    {
     "name": "stderr",
     "output_type": "stream",
     "text": [
      "                                                                                \r"
     ]
    },
    {
     "name": "stdout",
     "output_type": "stream",
     "text": [
      "Batch 51 complete - 5,000 records written\n",
      "\n",
      "Processing batch 52/323 (255,000 to 260,000 records)\n"
     ]
    },
    {
     "name": "stderr",
     "output_type": "stream",
     "text": [
      "                                                                                \r"
     ]
    },
    {
     "name": "stdout",
     "output_type": "stream",
     "text": [
      "Batch 52 complete - 5,000 records written\n",
      "\n",
      "Processing batch 53/323 (260,000 to 265,000 records)\n"
     ]
    },
    {
     "name": "stderr",
     "output_type": "stream",
     "text": [
      "                                                                                \r"
     ]
    },
    {
     "name": "stdout",
     "output_type": "stream",
     "text": [
      "Batch 53 complete - 5,000 records written\n",
      "\n",
      "Processing batch 54/323 (265,000 to 270,000 records)\n"
     ]
    },
    {
     "name": "stderr",
     "output_type": "stream",
     "text": [
      "                                                                                \r"
     ]
    },
    {
     "name": "stdout",
     "output_type": "stream",
     "text": [
      "Batch 54 complete - 5,000 records written\n",
      "\n",
      "Processing batch 55/323 (270,000 to 275,000 records)\n"
     ]
    },
    {
     "name": "stderr",
     "output_type": "stream",
     "text": [
      "                                                                                \r"
     ]
    },
    {
     "name": "stdout",
     "output_type": "stream",
     "text": [
      "Batch 55 complete - 5,000 records written\n",
      "\n",
      "Processing batch 56/323 (275,000 to 280,000 records)\n"
     ]
    },
    {
     "name": "stderr",
     "output_type": "stream",
     "text": [
      "                                                                                \r"
     ]
    },
    {
     "name": "stdout",
     "output_type": "stream",
     "text": [
      "Batch 56 complete - 5,000 records written\n",
      "\n",
      "Processing batch 57/323 (280,000 to 285,000 records)\n"
     ]
    },
    {
     "name": "stderr",
     "output_type": "stream",
     "text": [
      "                                                                                \r"
     ]
    },
    {
     "name": "stdout",
     "output_type": "stream",
     "text": [
      "Batch 57 complete - 5,000 records written\n",
      "\n",
      "Processing batch 58/323 (285,000 to 290,000 records)\n"
     ]
    },
    {
     "name": "stderr",
     "output_type": "stream",
     "text": [
      "                                                                                \r"
     ]
    },
    {
     "name": "stdout",
     "output_type": "stream",
     "text": [
      "Batch 58 complete - 5,000 records written\n",
      "\n",
      "Processing batch 59/323 (290,000 to 295,000 records)\n"
     ]
    },
    {
     "name": "stderr",
     "output_type": "stream",
     "text": [
      "                                                                                \r"
     ]
    },
    {
     "name": "stdout",
     "output_type": "stream",
     "text": [
      "Batch 59 complete - 5,000 records written\n",
      "\n",
      "Processing batch 60/323 (295,000 to 300,000 records)\n"
     ]
    },
    {
     "name": "stderr",
     "output_type": "stream",
     "text": [
      "                                                                                \r"
     ]
    },
    {
     "name": "stdout",
     "output_type": "stream",
     "text": [
      "Batch 60 complete - 5,000 records written\n",
      "\n",
      "Processing batch 61/323 (300,000 to 305,000 records)\n"
     ]
    },
    {
     "name": "stderr",
     "output_type": "stream",
     "text": [
      "                                                                                \r"
     ]
    },
    {
     "name": "stdout",
     "output_type": "stream",
     "text": [
      "Batch 61 complete - 5,000 records written\n",
      "\n",
      "Processing batch 62/323 (305,000 to 310,000 records)\n"
     ]
    },
    {
     "name": "stderr",
     "output_type": "stream",
     "text": [
      "                                                                                \r"
     ]
    },
    {
     "name": "stdout",
     "output_type": "stream",
     "text": [
      "Batch 62 complete - 5,000 records written\n",
      "\n",
      "Processing batch 63/323 (310,000 to 315,000 records)\n"
     ]
    },
    {
     "name": "stderr",
     "output_type": "stream",
     "text": [
      "                                                                                \r"
     ]
    },
    {
     "name": "stdout",
     "output_type": "stream",
     "text": [
      "Batch 63 complete - 5,000 records written\n",
      "\n",
      "Processing batch 64/323 (315,000 to 320,000 records)\n"
     ]
    },
    {
     "name": "stderr",
     "output_type": "stream",
     "text": [
      "                                                                                \r"
     ]
    },
    {
     "name": "stdout",
     "output_type": "stream",
     "text": [
      "Batch 64 complete - 5,000 records written\n",
      "\n",
      "Processing batch 65/323 (320,000 to 325,000 records)\n"
     ]
    },
    {
     "name": "stderr",
     "output_type": "stream",
     "text": [
      "                                                                                \r"
     ]
    },
    {
     "name": "stdout",
     "output_type": "stream",
     "text": [
      "Batch 65 complete - 5,000 records written\n",
      "\n",
      "Processing batch 66/323 (325,000 to 330,000 records)\n"
     ]
    },
    {
     "name": "stderr",
     "output_type": "stream",
     "text": [
      "                                                                                \r"
     ]
    },
    {
     "name": "stdout",
     "output_type": "stream",
     "text": [
      "Batch 66 complete - 5,000 records written\n",
      "\n",
      "Processing batch 67/323 (330,000 to 335,000 records)\n"
     ]
    },
    {
     "name": "stderr",
     "output_type": "stream",
     "text": [
      "                                                                                \r"
     ]
    },
    {
     "name": "stdout",
     "output_type": "stream",
     "text": [
      "Batch 67 complete - 5,000 records written\n",
      "\n",
      "Processing batch 68/323 (335,000 to 340,000 records)\n"
     ]
    },
    {
     "name": "stderr",
     "output_type": "stream",
     "text": [
      "                                                                                \r"
     ]
    },
    {
     "name": "stdout",
     "output_type": "stream",
     "text": [
      "Batch 68 complete - 5,000 records written\n",
      "\n",
      "Processing batch 69/323 (340,000 to 345,000 records)\n"
     ]
    },
    {
     "name": "stderr",
     "output_type": "stream",
     "text": [
      "                                                                                \r"
     ]
    },
    {
     "name": "stdout",
     "output_type": "stream",
     "text": [
      "Batch 69 complete - 5,000 records written\n",
      "\n",
      "Processing batch 70/323 (345,000 to 350,000 records)\n"
     ]
    },
    {
     "name": "stderr",
     "output_type": "stream",
     "text": [
      "                                                                                \r"
     ]
    },
    {
     "name": "stdout",
     "output_type": "stream",
     "text": [
      "Batch 70 complete - 5,000 records written\n",
      "\n",
      "Processing batch 71/323 (350,000 to 355,000 records)\n"
     ]
    },
    {
     "name": "stderr",
     "output_type": "stream",
     "text": [
      "                                                                                \r"
     ]
    },
    {
     "name": "stdout",
     "output_type": "stream",
     "text": [
      "Batch 71 complete - 5,000 records written\n",
      "\n",
      "Processing batch 72/323 (355,000 to 360,000 records)\n"
     ]
    },
    {
     "name": "stderr",
     "output_type": "stream",
     "text": [
      "                                                                                \r"
     ]
    },
    {
     "name": "stdout",
     "output_type": "stream",
     "text": [
      "Batch 72 complete - 5,000 records written\n",
      "\n",
      "Processing batch 73/323 (360,000 to 365,000 records)\n"
     ]
    },
    {
     "name": "stderr",
     "output_type": "stream",
     "text": [
      "                                                                                \r"
     ]
    },
    {
     "name": "stdout",
     "output_type": "stream",
     "text": [
      "Batch 73 complete - 5,000 records written\n",
      "\n",
      "Processing batch 74/323 (365,000 to 370,000 records)\n"
     ]
    },
    {
     "name": "stderr",
     "output_type": "stream",
     "text": [
      "                                                                                \r"
     ]
    },
    {
     "name": "stdout",
     "output_type": "stream",
     "text": [
      "Batch 74 complete - 5,000 records written\n",
      "\n",
      "Processing batch 75/323 (370,000 to 375,000 records)\n"
     ]
    },
    {
     "name": "stderr",
     "output_type": "stream",
     "text": [
      "                                                                                \r"
     ]
    },
    {
     "name": "stdout",
     "output_type": "stream",
     "text": [
      "Batch 75 complete - 5,000 records written\n",
      "\n",
      "Processing batch 76/323 (375,000 to 380,000 records)\n"
     ]
    },
    {
     "name": "stderr",
     "output_type": "stream",
     "text": [
      "                                                                                \r"
     ]
    },
    {
     "name": "stdout",
     "output_type": "stream",
     "text": [
      "Batch 76 complete - 5,000 records written\n",
      "\n",
      "Processing batch 77/323 (380,000 to 385,000 records)\n"
     ]
    },
    {
     "name": "stderr",
     "output_type": "stream",
     "text": [
      "                                                                                \r"
     ]
    },
    {
     "name": "stdout",
     "output_type": "stream",
     "text": [
      "Batch 77 complete - 5,000 records written\n",
      "\n",
      "Processing batch 78/323 (385,000 to 390,000 records)\n"
     ]
    },
    {
     "name": "stderr",
     "output_type": "stream",
     "text": [
      "                                                                                \r"
     ]
    },
    {
     "name": "stdout",
     "output_type": "stream",
     "text": [
      "Batch 78 complete - 5,000 records written\n",
      "\n",
      "Processing batch 79/323 (390,000 to 395,000 records)\n"
     ]
    },
    {
     "name": "stderr",
     "output_type": "stream",
     "text": [
      "                                                                                \r"
     ]
    },
    {
     "name": "stdout",
     "output_type": "stream",
     "text": [
      "Batch 79 complete - 5,000 records written\n",
      "\n",
      "Processing batch 80/323 (395,000 to 400,000 records)\n"
     ]
    },
    {
     "name": "stderr",
     "output_type": "stream",
     "text": [
      "                                                                                \r"
     ]
    },
    {
     "name": "stdout",
     "output_type": "stream",
     "text": [
      "Batch 80 complete - 5,000 records written\n",
      "\n",
      "Processing batch 81/323 (400,000 to 405,000 records)\n"
     ]
    },
    {
     "name": "stderr",
     "output_type": "stream",
     "text": [
      "                                                                                \r"
     ]
    },
    {
     "name": "stdout",
     "output_type": "stream",
     "text": [
      "Batch 81 complete - 5,000 records written\n",
      "\n",
      "Processing batch 82/323 (405,000 to 410,000 records)\n"
     ]
    },
    {
     "name": "stderr",
     "output_type": "stream",
     "text": [
      "                                                                                \r"
     ]
    },
    {
     "name": "stdout",
     "output_type": "stream",
     "text": [
      "Batch 82 complete - 5,000 records written\n",
      "\n",
      "Processing batch 83/323 (410,000 to 415,000 records)\n"
     ]
    },
    {
     "name": "stderr",
     "output_type": "stream",
     "text": [
      "                                                                                \r"
     ]
    },
    {
     "name": "stdout",
     "output_type": "stream",
     "text": [
      "Batch 83 complete - 5,000 records written\n",
      "\n",
      "Processing batch 84/323 (415,000 to 420,000 records)\n"
     ]
    },
    {
     "name": "stderr",
     "output_type": "stream",
     "text": [
      "                                                                                \r"
     ]
    },
    {
     "name": "stdout",
     "output_type": "stream",
     "text": [
      "Batch 84 complete - 5,000 records written\n",
      "\n",
      "Processing batch 85/323 (420,000 to 425,000 records)\n"
     ]
    },
    {
     "name": "stderr",
     "output_type": "stream",
     "text": [
      "                                                                                \r"
     ]
    },
    {
     "name": "stdout",
     "output_type": "stream",
     "text": [
      "Batch 85 complete - 5,000 records written\n",
      "\n",
      "Processing batch 86/323 (425,000 to 430,000 records)\n"
     ]
    },
    {
     "name": "stderr",
     "output_type": "stream",
     "text": [
      "                                                                                \r"
     ]
    },
    {
     "name": "stdout",
     "output_type": "stream",
     "text": [
      "Batch 86 complete - 5,000 records written\n",
      "\n",
      "Processing batch 87/323 (430,000 to 435,000 records)\n"
     ]
    },
    {
     "name": "stderr",
     "output_type": "stream",
     "text": [
      "                                                                                \r"
     ]
    },
    {
     "name": "stdout",
     "output_type": "stream",
     "text": [
      "Batch 87 complete - 5,000 records written\n",
      "\n",
      "Processing batch 88/323 (435,000 to 440,000 records)\n"
     ]
    },
    {
     "name": "stderr",
     "output_type": "stream",
     "text": [
      "                                                                                \r"
     ]
    },
    {
     "name": "stdout",
     "output_type": "stream",
     "text": [
      "Batch 88 complete - 5,000 records written\n",
      "\n",
      "Processing batch 89/323 (440,000 to 445,000 records)\n"
     ]
    },
    {
     "name": "stderr",
     "output_type": "stream",
     "text": [
      "                                                                                \r"
     ]
    },
    {
     "name": "stdout",
     "output_type": "stream",
     "text": [
      "Batch 89 complete - 5,000 records written\n",
      "\n",
      "Processing batch 90/323 (445,000 to 450,000 records)\n"
     ]
    },
    {
     "name": "stderr",
     "output_type": "stream",
     "text": [
      "                                                                                \r"
     ]
    },
    {
     "name": "stdout",
     "output_type": "stream",
     "text": [
      "Batch 90 complete - 5,000 records written\n",
      "\n",
      "Processing batch 91/323 (450,000 to 455,000 records)\n"
     ]
    },
    {
     "name": "stderr",
     "output_type": "stream",
     "text": [
      "                                                                                \r"
     ]
    },
    {
     "name": "stdout",
     "output_type": "stream",
     "text": [
      "Batch 91 complete - 5,000 records written\n",
      "\n",
      "Processing batch 92/323 (455,000 to 460,000 records)\n"
     ]
    },
    {
     "name": "stderr",
     "output_type": "stream",
     "text": [
      "                                                                                \r"
     ]
    },
    {
     "name": "stdout",
     "output_type": "stream",
     "text": [
      "Batch 92 complete - 5,000 records written\n",
      "\n",
      "Processing batch 93/323 (460,000 to 465,000 records)\n"
     ]
    },
    {
     "name": "stderr",
     "output_type": "stream",
     "text": [
      "                                                                                \r"
     ]
    },
    {
     "name": "stdout",
     "output_type": "stream",
     "text": [
      "Batch 93 complete - 5,000 records written\n",
      "\n",
      "Processing batch 94/323 (465,000 to 470,000 records)\n"
     ]
    },
    {
     "name": "stderr",
     "output_type": "stream",
     "text": [
      "                                                                                \r"
     ]
    },
    {
     "name": "stdout",
     "output_type": "stream",
     "text": [
      "Batch 94 complete - 5,000 records written\n",
      "\n",
      "Processing batch 95/323 (470,000 to 475,000 records)\n"
     ]
    },
    {
     "name": "stderr",
     "output_type": "stream",
     "text": [
      "                                                                                \r"
     ]
    },
    {
     "name": "stdout",
     "output_type": "stream",
     "text": [
      "Batch 95 complete - 5,000 records written\n",
      "\n",
      "Processing batch 96/323 (475,000 to 480,000 records)\n"
     ]
    },
    {
     "name": "stderr",
     "output_type": "stream",
     "text": [
      "                                                                                \r"
     ]
    },
    {
     "name": "stdout",
     "output_type": "stream",
     "text": [
      "Batch 96 complete - 5,000 records written\n",
      "\n",
      "Processing batch 97/323 (480,000 to 485,000 records)\n"
     ]
    },
    {
     "name": "stderr",
     "output_type": "stream",
     "text": [
      "                                                                                \r"
     ]
    },
    {
     "name": "stdout",
     "output_type": "stream",
     "text": [
      "Batch 97 complete - 5,000 records written\n",
      "\n",
      "Processing batch 98/323 (485,000 to 490,000 records)\n"
     ]
    },
    {
     "name": "stderr",
     "output_type": "stream",
     "text": [
      "                                                                                \r"
     ]
    },
    {
     "name": "stdout",
     "output_type": "stream",
     "text": [
      "Batch 98 complete - 5,000 records written\n",
      "\n",
      "Processing batch 99/323 (490,000 to 495,000 records)\n"
     ]
    },
    {
     "name": "stderr",
     "output_type": "stream",
     "text": [
      "                                                                                \r"
     ]
    },
    {
     "name": "stdout",
     "output_type": "stream",
     "text": [
      "Batch 99 complete - 5,000 records written\n",
      "\n",
      "Processing batch 100/323 (495,000 to 500,000 records)\n"
     ]
    },
    {
     "name": "stderr",
     "output_type": "stream",
     "text": [
      "                                                                                \r"
     ]
    },
    {
     "name": "stdout",
     "output_type": "stream",
     "text": [
      "Batch 100 complete - 5,000 records written\n",
      "\n",
      "Processing batch 101/323 (500,000 to 505,000 records)\n"
     ]
    },
    {
     "name": "stderr",
     "output_type": "stream",
     "text": [
      "                                                                                \r"
     ]
    },
    {
     "name": "stdout",
     "output_type": "stream",
     "text": [
      "Batch 101 complete - 5,000 records written\n",
      "\n",
      "Processing batch 102/323 (505,000 to 510,000 records)\n"
     ]
    },
    {
     "name": "stderr",
     "output_type": "stream",
     "text": [
      "                                                                                \r"
     ]
    },
    {
     "name": "stdout",
     "output_type": "stream",
     "text": [
      "Batch 102 complete - 5,000 records written\n",
      "\n",
      "Processing batch 103/323 (510,000 to 515,000 records)\n"
     ]
    },
    {
     "name": "stderr",
     "output_type": "stream",
     "text": [
      "                                                                                \r"
     ]
    },
    {
     "name": "stdout",
     "output_type": "stream",
     "text": [
      "Batch 103 complete - 5,000 records written\n",
      "\n",
      "Processing batch 104/323 (515,000 to 520,000 records)\n"
     ]
    },
    {
     "name": "stderr",
     "output_type": "stream",
     "text": [
      "                                                                                \r"
     ]
    },
    {
     "name": "stdout",
     "output_type": "stream",
     "text": [
      "Batch 104 complete - 5,000 records written\n",
      "\n",
      "Processing batch 105/323 (520,000 to 525,000 records)\n"
     ]
    },
    {
     "name": "stderr",
     "output_type": "stream",
     "text": [
      "                                                                                \r"
     ]
    },
    {
     "name": "stdout",
     "output_type": "stream",
     "text": [
      "Batch 105 complete - 5,000 records written\n",
      "\n",
      "Processing batch 106/323 (525,000 to 530,000 records)\n"
     ]
    },
    {
     "name": "stderr",
     "output_type": "stream",
     "text": [
      "                                                                                \r"
     ]
    },
    {
     "name": "stdout",
     "output_type": "stream",
     "text": [
      "Batch 106 complete - 5,000 records written\n",
      "\n",
      "Processing batch 107/323 (530,000 to 535,000 records)\n"
     ]
    },
    {
     "name": "stderr",
     "output_type": "stream",
     "text": [
      "                                                                                \r"
     ]
    },
    {
     "name": "stdout",
     "output_type": "stream",
     "text": [
      "Batch 107 complete - 5,000 records written\n",
      "\n",
      "Processing batch 108/323 (535,000 to 540,000 records)\n"
     ]
    },
    {
     "name": "stderr",
     "output_type": "stream",
     "text": [
      "                                                                                \r"
     ]
    },
    {
     "name": "stdout",
     "output_type": "stream",
     "text": [
      "Batch 108 complete - 5,000 records written\n",
      "\n",
      "Processing batch 109/323 (540,000 to 545,000 records)\n"
     ]
    },
    {
     "name": "stderr",
     "output_type": "stream",
     "text": [
      "                                                                                \r"
     ]
    },
    {
     "name": "stdout",
     "output_type": "stream",
     "text": [
      "Batch 109 complete - 5,000 records written\n",
      "\n",
      "Processing batch 110/323 (545,000 to 550,000 records)\n"
     ]
    },
    {
     "name": "stderr",
     "output_type": "stream",
     "text": [
      "                                                                                \r"
     ]
    },
    {
     "name": "stdout",
     "output_type": "stream",
     "text": [
      "Batch 110 complete - 5,000 records written\n",
      "\n",
      "Processing batch 111/323 (550,000 to 555,000 records)\n"
     ]
    },
    {
     "name": "stderr",
     "output_type": "stream",
     "text": [
      "                                                                                \r"
     ]
    },
    {
     "name": "stdout",
     "output_type": "stream",
     "text": [
      "Batch 111 complete - 5,000 records written\n",
      "\n",
      "Processing batch 112/323 (555,000 to 560,000 records)\n"
     ]
    },
    {
     "name": "stderr",
     "output_type": "stream",
     "text": [
      "                                                                                \r"
     ]
    },
    {
     "name": "stdout",
     "output_type": "stream",
     "text": [
      "Batch 112 complete - 5,000 records written\n",
      "\n",
      "Processing batch 113/323 (560,000 to 565,000 records)\n"
     ]
    },
    {
     "name": "stderr",
     "output_type": "stream",
     "text": [
      "                                                                                \r"
     ]
    },
    {
     "name": "stdout",
     "output_type": "stream",
     "text": [
      "Batch 113 complete - 5,000 records written\n",
      "\n",
      "Processing batch 114/323 (565,000 to 570,000 records)\n"
     ]
    },
    {
     "name": "stderr",
     "output_type": "stream",
     "text": [
      "                                                                                \r"
     ]
    },
    {
     "name": "stdout",
     "output_type": "stream",
     "text": [
      "Batch 114 complete - 5,000 records written\n",
      "\n",
      "Processing batch 115/323 (570,000 to 575,000 records)\n"
     ]
    },
    {
     "name": "stderr",
     "output_type": "stream",
     "text": [
      "                                                                                \r"
     ]
    },
    {
     "name": "stdout",
     "output_type": "stream",
     "text": [
      "Batch 115 complete - 5,000 records written\n",
      "\n",
      "Processing batch 116/323 (575,000 to 580,000 records)\n"
     ]
    },
    {
     "name": "stderr",
     "output_type": "stream",
     "text": [
      "                                                                                \r"
     ]
    },
    {
     "name": "stdout",
     "output_type": "stream",
     "text": [
      "Batch 116 complete - 5,000 records written\n",
      "\n",
      "Processing batch 117/323 (580,000 to 585,000 records)\n"
     ]
    },
    {
     "name": "stderr",
     "output_type": "stream",
     "text": [
      "                                                                                \r"
     ]
    },
    {
     "name": "stdout",
     "output_type": "stream",
     "text": [
      "Batch 117 complete - 5,000 records written\n",
      "\n",
      "Processing batch 118/323 (585,000 to 590,000 records)\n"
     ]
    },
    {
     "name": "stderr",
     "output_type": "stream",
     "text": [
      "                                                                                \r"
     ]
    },
    {
     "name": "stdout",
     "output_type": "stream",
     "text": [
      "Batch 118 complete - 5,000 records written\n",
      "\n",
      "Processing batch 119/323 (590,000 to 595,000 records)\n"
     ]
    },
    {
     "name": "stderr",
     "output_type": "stream",
     "text": [
      "                                                                                \r"
     ]
    },
    {
     "name": "stdout",
     "output_type": "stream",
     "text": [
      "Batch 119 complete - 5,000 records written\n",
      "\n",
      "Processing batch 120/323 (595,000 to 600,000 records)\n"
     ]
    },
    {
     "name": "stderr",
     "output_type": "stream",
     "text": [
      "                                                                                \r"
     ]
    },
    {
     "name": "stdout",
     "output_type": "stream",
     "text": [
      "Batch 120 complete - 5,000 records written\n",
      "\n",
      "Processing batch 121/323 (600,000 to 605,000 records)\n"
     ]
    },
    {
     "name": "stderr",
     "output_type": "stream",
     "text": [
      "                                                                                \r"
     ]
    },
    {
     "name": "stdout",
     "output_type": "stream",
     "text": [
      "Batch 121 complete - 5,000 records written\n",
      "\n",
      "Processing batch 122/323 (605,000 to 610,000 records)\n"
     ]
    },
    {
     "name": "stderr",
     "output_type": "stream",
     "text": [
      "                                                                                \r"
     ]
    },
    {
     "name": "stdout",
     "output_type": "stream",
     "text": [
      "Batch 122 complete - 5,000 records written\n",
      "\n",
      "Processing batch 123/323 (610,000 to 615,000 records)\n"
     ]
    },
    {
     "name": "stderr",
     "output_type": "stream",
     "text": [
      "                                                                                \r"
     ]
    },
    {
     "name": "stdout",
     "output_type": "stream",
     "text": [
      "Batch 123 complete - 5,000 records written\n",
      "\n",
      "Processing batch 124/323 (615,000 to 620,000 records)\n"
     ]
    },
    {
     "name": "stderr",
     "output_type": "stream",
     "text": [
      "                                                                                \r"
     ]
    },
    {
     "name": "stdout",
     "output_type": "stream",
     "text": [
      "Batch 124 complete - 5,000 records written\n",
      "\n",
      "Processing batch 125/323 (620,000 to 625,000 records)\n"
     ]
    },
    {
     "name": "stderr",
     "output_type": "stream",
     "text": [
      "                                                                                \r"
     ]
    },
    {
     "name": "stdout",
     "output_type": "stream",
     "text": [
      "Batch 125 complete - 5,000 records written\n",
      "\n",
      "Processing batch 126/323 (625,000 to 630,000 records)\n"
     ]
    },
    {
     "name": "stderr",
     "output_type": "stream",
     "text": [
      "                                                                                \r"
     ]
    },
    {
     "name": "stdout",
     "output_type": "stream",
     "text": [
      "Batch 126 complete - 5,000 records written\n",
      "\n",
      "Processing batch 127/323 (630,000 to 635,000 records)\n"
     ]
    },
    {
     "name": "stderr",
     "output_type": "stream",
     "text": [
      "                                                                                \r"
     ]
    },
    {
     "name": "stdout",
     "output_type": "stream",
     "text": [
      "Batch 127 complete - 5,000 records written\n",
      "\n",
      "Processing batch 128/323 (635,000 to 640,000 records)\n"
     ]
    },
    {
     "name": "stderr",
     "output_type": "stream",
     "text": [
      "                                                                                \r"
     ]
    },
    {
     "name": "stdout",
     "output_type": "stream",
     "text": [
      "Batch 128 complete - 5,000 records written\n",
      "\n",
      "Processing batch 129/323 (640,000 to 645,000 records)\n"
     ]
    },
    {
     "name": "stderr",
     "output_type": "stream",
     "text": [
      "                                                                                \r"
     ]
    },
    {
     "name": "stdout",
     "output_type": "stream",
     "text": [
      "Batch 129 complete - 5,000 records written\n",
      "\n",
      "Processing batch 130/323 (645,000 to 650,000 records)\n"
     ]
    },
    {
     "name": "stderr",
     "output_type": "stream",
     "text": [
      "                                                                                \r"
     ]
    },
    {
     "name": "stdout",
     "output_type": "stream",
     "text": [
      "Batch 130 complete - 5,000 records written\n",
      "\n",
      "Processing batch 131/323 (650,000 to 655,000 records)\n"
     ]
    },
    {
     "name": "stderr",
     "output_type": "stream",
     "text": [
      "                                                                                \r"
     ]
    },
    {
     "name": "stdout",
     "output_type": "stream",
     "text": [
      "Batch 131 complete - 5,000 records written\n",
      "\n",
      "Processing batch 132/323 (655,000 to 660,000 records)\n"
     ]
    },
    {
     "name": "stderr",
     "output_type": "stream",
     "text": [
      "                                                                                \r"
     ]
    },
    {
     "name": "stdout",
     "output_type": "stream",
     "text": [
      "Batch 132 complete - 5,000 records written\n",
      "\n",
      "Processing batch 133/323 (660,000 to 665,000 records)\n"
     ]
    },
    {
     "name": "stderr",
     "output_type": "stream",
     "text": [
      "                                                                                \r"
     ]
    },
    {
     "name": "stdout",
     "output_type": "stream",
     "text": [
      "Batch 133 complete - 5,000 records written\n",
      "\n",
      "Processing batch 134/323 (665,000 to 670,000 records)\n"
     ]
    },
    {
     "name": "stderr",
     "output_type": "stream",
     "text": [
      "                                                                                \r"
     ]
    },
    {
     "name": "stdout",
     "output_type": "stream",
     "text": [
      "Batch 134 complete - 5,000 records written\n",
      "\n",
      "Processing batch 135/323 (670,000 to 675,000 records)\n"
     ]
    },
    {
     "name": "stderr",
     "output_type": "stream",
     "text": [
      "                                                                                \r"
     ]
    },
    {
     "name": "stdout",
     "output_type": "stream",
     "text": [
      "Batch 135 complete - 5,000 records written\n",
      "\n",
      "Processing batch 136/323 (675,000 to 680,000 records)\n"
     ]
    },
    {
     "name": "stderr",
     "output_type": "stream",
     "text": [
      "                                                                                \r"
     ]
    },
    {
     "name": "stdout",
     "output_type": "stream",
     "text": [
      "Batch 136 complete - 5,000 records written\n",
      "\n",
      "Processing batch 137/323 (680,000 to 685,000 records)\n"
     ]
    },
    {
     "name": "stderr",
     "output_type": "stream",
     "text": [
      "                                                                                \r"
     ]
    },
    {
     "name": "stdout",
     "output_type": "stream",
     "text": [
      "Batch 137 complete - 5,000 records written\n",
      "\n",
      "Processing batch 138/323 (685,000 to 690,000 records)\n"
     ]
    },
    {
     "name": "stderr",
     "output_type": "stream",
     "text": [
      "                                                                                \r"
     ]
    },
    {
     "name": "stdout",
     "output_type": "stream",
     "text": [
      "Batch 138 complete - 5,000 records written\n",
      "\n",
      "Processing batch 139/323 (690,000 to 695,000 records)\n"
     ]
    },
    {
     "name": "stderr",
     "output_type": "stream",
     "text": [
      "                                                                                \r"
     ]
    },
    {
     "name": "stdout",
     "output_type": "stream",
     "text": [
      "Batch 139 complete - 5,000 records written\n",
      "\n",
      "Processing batch 140/323 (695,000 to 700,000 records)\n"
     ]
    },
    {
     "name": "stderr",
     "output_type": "stream",
     "text": [
      "                                                                                \r"
     ]
    },
    {
     "name": "stdout",
     "output_type": "stream",
     "text": [
      "Batch 140 complete - 5,000 records written\n",
      "\n",
      "Processing batch 141/323 (700,000 to 705,000 records)\n"
     ]
    },
    {
     "name": "stderr",
     "output_type": "stream",
     "text": [
      "                                                                                \r"
     ]
    },
    {
     "name": "stdout",
     "output_type": "stream",
     "text": [
      "Batch 141 complete - 5,000 records written\n",
      "\n",
      "Processing batch 142/323 (705,000 to 710,000 records)\n"
     ]
    },
    {
     "name": "stderr",
     "output_type": "stream",
     "text": [
      "                                                                                \r"
     ]
    },
    {
     "name": "stdout",
     "output_type": "stream",
     "text": [
      "Batch 142 complete - 5,000 records written\n",
      "\n",
      "Processing batch 143/323 (710,000 to 715,000 records)\n"
     ]
    },
    {
     "name": "stderr",
     "output_type": "stream",
     "text": [
      "                                                                                \r"
     ]
    },
    {
     "name": "stdout",
     "output_type": "stream",
     "text": [
      "Batch 143 complete - 5,000 records written\n",
      "\n",
      "Processing batch 144/323 (715,000 to 720,000 records)\n"
     ]
    },
    {
     "name": "stderr",
     "output_type": "stream",
     "text": [
      "                                                                                \r"
     ]
    },
    {
     "name": "stdout",
     "output_type": "stream",
     "text": [
      "Batch 144 complete - 5,000 records written\n",
      "\n",
      "Processing batch 145/323 (720,000 to 725,000 records)\n"
     ]
    },
    {
     "name": "stderr",
     "output_type": "stream",
     "text": [
      "                                                                                \r"
     ]
    },
    {
     "name": "stdout",
     "output_type": "stream",
     "text": [
      "Batch 145 complete - 5,000 records written\n",
      "\n",
      "Processing batch 146/323 (725,000 to 730,000 records)\n"
     ]
    },
    {
     "name": "stderr",
     "output_type": "stream",
     "text": [
      "                                                                                \r"
     ]
    },
    {
     "name": "stdout",
     "output_type": "stream",
     "text": [
      "Batch 146 complete - 5,000 records written\n",
      "\n",
      "Processing batch 147/323 (730,000 to 735,000 records)\n"
     ]
    },
    {
     "name": "stderr",
     "output_type": "stream",
     "text": [
      "                                                                                \r"
     ]
    },
    {
     "name": "stdout",
     "output_type": "stream",
     "text": [
      "Batch 147 complete - 5,000 records written\n",
      "\n",
      "Processing batch 148/323 (735,000 to 740,000 records)\n"
     ]
    },
    {
     "name": "stderr",
     "output_type": "stream",
     "text": [
      "                                                                                \r"
     ]
    },
    {
     "name": "stdout",
     "output_type": "stream",
     "text": [
      "Batch 148 complete - 5,000 records written\n",
      "\n",
      "Processing batch 149/323 (740,000 to 745,000 records)\n"
     ]
    },
    {
     "name": "stderr",
     "output_type": "stream",
     "text": [
      "                                                                                \r"
     ]
    },
    {
     "name": "stdout",
     "output_type": "stream",
     "text": [
      "Batch 149 complete - 5,000 records written\n",
      "\n",
      "Processing batch 150/323 (745,000 to 750,000 records)\n"
     ]
    },
    {
     "name": "stderr",
     "output_type": "stream",
     "text": [
      "                                                                                \r"
     ]
    },
    {
     "name": "stdout",
     "output_type": "stream",
     "text": [
      "Batch 150 complete - 5,000 records written\n",
      "\n",
      "Processing batch 151/323 (750,000 to 755,000 records)\n"
     ]
    },
    {
     "name": "stderr",
     "output_type": "stream",
     "text": [
      "                                                                                \r"
     ]
    },
    {
     "name": "stdout",
     "output_type": "stream",
     "text": [
      "Batch 151 complete - 5,000 records written\n",
      "\n",
      "Processing batch 152/323 (755,000 to 760,000 records)\n"
     ]
    },
    {
     "name": "stderr",
     "output_type": "stream",
     "text": [
      "                                                                                \r"
     ]
    },
    {
     "name": "stdout",
     "output_type": "stream",
     "text": [
      "Batch 152 complete - 5,000 records written\n",
      "\n",
      "Processing batch 153/323 (760,000 to 765,000 records)\n"
     ]
    },
    {
     "name": "stderr",
     "output_type": "stream",
     "text": [
      "                                                                                \r"
     ]
    },
    {
     "name": "stdout",
     "output_type": "stream",
     "text": [
      "Batch 153 complete - 5,000 records written\n",
      "\n",
      "Processing batch 154/323 (765,000 to 770,000 records)\n"
     ]
    },
    {
     "name": "stderr",
     "output_type": "stream",
     "text": [
      "                                                                                \r"
     ]
    },
    {
     "name": "stdout",
     "output_type": "stream",
     "text": [
      "Batch 154 complete - 5,000 records written\n",
      "\n",
      "Processing batch 155/323 (770,000 to 775,000 records)\n"
     ]
    },
    {
     "name": "stderr",
     "output_type": "stream",
     "text": [
      "                                                                                \r"
     ]
    },
    {
     "name": "stdout",
     "output_type": "stream",
     "text": [
      "Batch 155 complete - 5,000 records written\n",
      "\n",
      "Processing batch 156/323 (775,000 to 780,000 records)\n"
     ]
    },
    {
     "name": "stderr",
     "output_type": "stream",
     "text": [
      "                                                                                \r"
     ]
    },
    {
     "name": "stdout",
     "output_type": "stream",
     "text": [
      "Batch 156 complete - 5,000 records written\n",
      "\n",
      "Processing batch 157/323 (780,000 to 785,000 records)\n"
     ]
    },
    {
     "name": "stderr",
     "output_type": "stream",
     "text": [
      "                                                                                \r"
     ]
    },
    {
     "name": "stdout",
     "output_type": "stream",
     "text": [
      "Batch 157 complete - 5,000 records written\n",
      "\n",
      "Processing batch 158/323 (785,000 to 790,000 records)\n"
     ]
    },
    {
     "name": "stderr",
     "output_type": "stream",
     "text": [
      "                                                                                \r"
     ]
    },
    {
     "name": "stdout",
     "output_type": "stream",
     "text": [
      "Batch 158 complete - 5,000 records written\n",
      "\n",
      "Processing batch 159/323 (790,000 to 795,000 records)\n"
     ]
    },
    {
     "name": "stderr",
     "output_type": "stream",
     "text": [
      "                                                                                \r"
     ]
    },
    {
     "name": "stdout",
     "output_type": "stream",
     "text": [
      "Batch 159 complete - 5,000 records written\n",
      "\n",
      "Processing batch 160/323 (795,000 to 800,000 records)\n"
     ]
    },
    {
     "name": "stderr",
     "output_type": "stream",
     "text": [
      "                                                                                \r"
     ]
    },
    {
     "name": "stdout",
     "output_type": "stream",
     "text": [
      "Batch 160 complete - 5,000 records written\n",
      "\n",
      "Processing batch 161/323 (800,000 to 805,000 records)\n"
     ]
    },
    {
     "name": "stderr",
     "output_type": "stream",
     "text": [
      "                                                                                \r"
     ]
    },
    {
     "name": "stdout",
     "output_type": "stream",
     "text": [
      "Batch 161 complete - 5,000 records written\n",
      "\n",
      "Processing batch 162/323 (805,000 to 810,000 records)\n"
     ]
    },
    {
     "name": "stderr",
     "output_type": "stream",
     "text": [
      "                                                                                \r"
     ]
    },
    {
     "name": "stdout",
     "output_type": "stream",
     "text": [
      "Batch 162 complete - 5,000 records written\n",
      "\n",
      "Processing batch 163/323 (810,000 to 815,000 records)\n"
     ]
    },
    {
     "name": "stderr",
     "output_type": "stream",
     "text": [
      "                                                                                \r"
     ]
    },
    {
     "name": "stdout",
     "output_type": "stream",
     "text": [
      "Batch 163 complete - 5,000 records written\n",
      "\n",
      "Processing batch 164/323 (815,000 to 820,000 records)\n"
     ]
    },
    {
     "name": "stderr",
     "output_type": "stream",
     "text": [
      "                                                                                \r"
     ]
    },
    {
     "name": "stdout",
     "output_type": "stream",
     "text": [
      "Batch 164 complete - 5,000 records written\n",
      "\n",
      "Processing batch 165/323 (820,000 to 825,000 records)\n"
     ]
    },
    {
     "name": "stderr",
     "output_type": "stream",
     "text": [
      "                                                                                \r"
     ]
    },
    {
     "name": "stdout",
     "output_type": "stream",
     "text": [
      "Batch 165 complete - 5,000 records written\n",
      "\n",
      "Processing batch 166/323 (825,000 to 830,000 records)\n"
     ]
    },
    {
     "name": "stderr",
     "output_type": "stream",
     "text": [
      "                                                                                \r"
     ]
    },
    {
     "name": "stdout",
     "output_type": "stream",
     "text": [
      "Batch 166 complete - 5,000 records written\n",
      "\n",
      "Processing batch 167/323 (830,000 to 835,000 records)\n"
     ]
    },
    {
     "name": "stderr",
     "output_type": "stream",
     "text": [
      "                                                                                \r"
     ]
    },
    {
     "name": "stdout",
     "output_type": "stream",
     "text": [
      "Batch 167 complete - 5,000 records written\n",
      "\n",
      "Processing batch 168/323 (835,000 to 840,000 records)\n"
     ]
    },
    {
     "name": "stderr",
     "output_type": "stream",
     "text": [
      "                                                                                \r"
     ]
    },
    {
     "name": "stdout",
     "output_type": "stream",
     "text": [
      "Batch 168 complete - 5,000 records written\n",
      "\n",
      "Processing batch 169/323 (840,000 to 845,000 records)\n"
     ]
    },
    {
     "name": "stderr",
     "output_type": "stream",
     "text": [
      "                                                                                \r"
     ]
    },
    {
     "name": "stdout",
     "output_type": "stream",
     "text": [
      "Batch 169 complete - 5,000 records written\n",
      "\n",
      "Processing batch 170/323 (845,000 to 850,000 records)\n"
     ]
    },
    {
     "name": "stderr",
     "output_type": "stream",
     "text": [
      "                                                                                \r"
     ]
    },
    {
     "name": "stdout",
     "output_type": "stream",
     "text": [
      "Batch 170 complete - 5,000 records written\n",
      "\n",
      "Processing batch 171/323 (850,000 to 855,000 records)\n"
     ]
    },
    {
     "name": "stderr",
     "output_type": "stream",
     "text": [
      "                                                                                \r"
     ]
    },
    {
     "name": "stdout",
     "output_type": "stream",
     "text": [
      "Batch 171 complete - 5,000 records written\n",
      "\n",
      "Processing batch 172/323 (855,000 to 860,000 records)\n"
     ]
    },
    {
     "name": "stderr",
     "output_type": "stream",
     "text": [
      "                                                                                \r"
     ]
    },
    {
     "name": "stdout",
     "output_type": "stream",
     "text": [
      "Batch 172 complete - 5,000 records written\n",
      "\n",
      "Processing batch 173/323 (860,000 to 865,000 records)\n"
     ]
    },
    {
     "name": "stderr",
     "output_type": "stream",
     "text": [
      "                                                                                \r"
     ]
    },
    {
     "name": "stdout",
     "output_type": "stream",
     "text": [
      "Batch 173 complete - 5,000 records written\n",
      "\n",
      "Processing batch 174/323 (865,000 to 870,000 records)\n"
     ]
    },
    {
     "name": "stderr",
     "output_type": "stream",
     "text": [
      "                                                                                \r"
     ]
    },
    {
     "name": "stdout",
     "output_type": "stream",
     "text": [
      "Batch 174 complete - 5,000 records written\n",
      "\n",
      "Processing batch 175/323 (870,000 to 875,000 records)\n"
     ]
    },
    {
     "name": "stderr",
     "output_type": "stream",
     "text": [
      "                                                                                \r"
     ]
    },
    {
     "name": "stdout",
     "output_type": "stream",
     "text": [
      "Batch 175 complete - 5,000 records written\n",
      "\n",
      "Processing batch 176/323 (875,000 to 880,000 records)\n"
     ]
    },
    {
     "name": "stderr",
     "output_type": "stream",
     "text": [
      "                                                                                \r"
     ]
    },
    {
     "name": "stdout",
     "output_type": "stream",
     "text": [
      "Batch 176 complete - 5,000 records written\n",
      "\n",
      "Processing batch 177/323 (880,000 to 885,000 records)\n"
     ]
    },
    {
     "name": "stderr",
     "output_type": "stream",
     "text": [
      "                                                                                \r"
     ]
    },
    {
     "name": "stdout",
     "output_type": "stream",
     "text": [
      "Batch 177 complete - 5,000 records written\n",
      "\n",
      "Processing batch 178/323 (885,000 to 890,000 records)\n"
     ]
    },
    {
     "name": "stderr",
     "output_type": "stream",
     "text": [
      "                                                                                \r"
     ]
    },
    {
     "name": "stdout",
     "output_type": "stream",
     "text": [
      "Batch 178 complete - 5,000 records written\n",
      "\n",
      "Processing batch 179/323 (890,000 to 895,000 records)\n"
     ]
    },
    {
     "name": "stderr",
     "output_type": "stream",
     "text": [
      "                                                                                \r"
     ]
    },
    {
     "name": "stdout",
     "output_type": "stream",
     "text": [
      "Batch 179 complete - 5,000 records written\n",
      "\n",
      "Processing batch 180/323 (895,000 to 900,000 records)\n"
     ]
    },
    {
     "name": "stderr",
     "output_type": "stream",
     "text": [
      "                                                                                \r"
     ]
    },
    {
     "name": "stdout",
     "output_type": "stream",
     "text": [
      "Batch 180 complete - 5,000 records written\n",
      "\n",
      "Processing batch 181/323 (900,000 to 905,000 records)\n"
     ]
    },
    {
     "name": "stderr",
     "output_type": "stream",
     "text": [
      "                                                                                \r"
     ]
    },
    {
     "name": "stdout",
     "output_type": "stream",
     "text": [
      "Batch 181 complete - 5,000 records written\n",
      "\n",
      "Processing batch 182/323 (905,000 to 910,000 records)\n"
     ]
    },
    {
     "name": "stderr",
     "output_type": "stream",
     "text": [
      "                                                                                \r"
     ]
    },
    {
     "name": "stdout",
     "output_type": "stream",
     "text": [
      "Batch 182 complete - 5,000 records written\n",
      "\n",
      "Processing batch 183/323 (910,000 to 915,000 records)\n"
     ]
    },
    {
     "name": "stderr",
     "output_type": "stream",
     "text": [
      "                                                                                \r"
     ]
    },
    {
     "name": "stdout",
     "output_type": "stream",
     "text": [
      "Batch 183 complete - 5,000 records written\n",
      "\n",
      "Processing batch 184/323 (915,000 to 920,000 records)\n"
     ]
    },
    {
     "name": "stderr",
     "output_type": "stream",
     "text": [
      "                                                                                \r"
     ]
    },
    {
     "name": "stdout",
     "output_type": "stream",
     "text": [
      "Batch 184 complete - 5,000 records written\n",
      "\n",
      "Processing batch 185/323 (920,000 to 925,000 records)\n"
     ]
    },
    {
     "name": "stderr",
     "output_type": "stream",
     "text": [
      "                                                                                \r"
     ]
    },
    {
     "name": "stdout",
     "output_type": "stream",
     "text": [
      "Batch 185 complete - 5,000 records written\n",
      "\n",
      "Processing batch 186/323 (925,000 to 930,000 records)\n"
     ]
    },
    {
     "name": "stderr",
     "output_type": "stream",
     "text": [
      "                                                                                \r"
     ]
    },
    {
     "name": "stdout",
     "output_type": "stream",
     "text": [
      "Batch 186 complete - 5,000 records written\n",
      "\n",
      "Processing batch 187/323 (930,000 to 935,000 records)\n"
     ]
    },
    {
     "name": "stderr",
     "output_type": "stream",
     "text": [
      "                                                                                \r"
     ]
    },
    {
     "name": "stdout",
     "output_type": "stream",
     "text": [
      "Batch 187 complete - 5,000 records written\n",
      "\n",
      "Processing batch 188/323 (935,000 to 940,000 records)\n"
     ]
    },
    {
     "name": "stderr",
     "output_type": "stream",
     "text": [
      "                                                                                \r"
     ]
    },
    {
     "name": "stdout",
     "output_type": "stream",
     "text": [
      "Batch 188 complete - 5,000 records written\n",
      "\n",
      "Processing batch 189/323 (940,000 to 945,000 records)\n"
     ]
    },
    {
     "name": "stderr",
     "output_type": "stream",
     "text": [
      "                                                                                \r"
     ]
    },
    {
     "name": "stdout",
     "output_type": "stream",
     "text": [
      "Batch 189 complete - 5,000 records written\n",
      "\n",
      "Processing batch 190/323 (945,000 to 950,000 records)\n"
     ]
    },
    {
     "name": "stderr",
     "output_type": "stream",
     "text": [
      "                                                                                \r"
     ]
    },
    {
     "name": "stdout",
     "output_type": "stream",
     "text": [
      "Batch 190 complete - 5,000 records written\n",
      "\n",
      "Processing batch 191/323 (950,000 to 955,000 records)\n"
     ]
    },
    {
     "name": "stderr",
     "output_type": "stream",
     "text": [
      "                                                                                \r"
     ]
    },
    {
     "name": "stdout",
     "output_type": "stream",
     "text": [
      "Batch 191 complete - 5,000 records written\n",
      "\n",
      "Processing batch 192/323 (955,000 to 960,000 records)\n"
     ]
    },
    {
     "name": "stderr",
     "output_type": "stream",
     "text": [
      "                                                                                \r"
     ]
    },
    {
     "name": "stdout",
     "output_type": "stream",
     "text": [
      "Batch 192 complete - 5,000 records written\n",
      "\n",
      "Processing batch 193/323 (960,000 to 965,000 records)\n"
     ]
    },
    {
     "name": "stderr",
     "output_type": "stream",
     "text": [
      "                                                                                \r"
     ]
    },
    {
     "name": "stdout",
     "output_type": "stream",
     "text": [
      "Batch 193 complete - 5,000 records written\n",
      "\n",
      "Processing batch 194/323 (965,000 to 970,000 records)\n"
     ]
    },
    {
     "name": "stderr",
     "output_type": "stream",
     "text": [
      "                                                                                \r"
     ]
    },
    {
     "name": "stdout",
     "output_type": "stream",
     "text": [
      "Batch 194 complete - 5,000 records written\n",
      "\n",
      "Processing batch 195/323 (970,000 to 975,000 records)\n"
     ]
    },
    {
     "name": "stderr",
     "output_type": "stream",
     "text": [
      "                                                                                \r"
     ]
    },
    {
     "name": "stdout",
     "output_type": "stream",
     "text": [
      "Batch 195 complete - 5,000 records written\n",
      "\n",
      "Processing batch 196/323 (975,000 to 980,000 records)\n"
     ]
    },
    {
     "name": "stderr",
     "output_type": "stream",
     "text": [
      "                                                                                \r"
     ]
    },
    {
     "name": "stdout",
     "output_type": "stream",
     "text": [
      "Batch 196 complete - 5,000 records written\n",
      "\n",
      "Processing batch 197/323 (980,000 to 985,000 records)\n"
     ]
    },
    {
     "name": "stderr",
     "output_type": "stream",
     "text": [
      "                                                                                \r"
     ]
    },
    {
     "name": "stdout",
     "output_type": "stream",
     "text": [
      "Batch 197 complete - 5,000 records written\n",
      "\n",
      "Processing batch 198/323 (985,000 to 990,000 records)\n"
     ]
    },
    {
     "name": "stderr",
     "output_type": "stream",
     "text": [
      "                                                                                \r"
     ]
    },
    {
     "name": "stdout",
     "output_type": "stream",
     "text": [
      "Batch 198 complete - 5,000 records written\n",
      "\n",
      "Processing batch 199/323 (990,000 to 995,000 records)\n"
     ]
    },
    {
     "name": "stderr",
     "output_type": "stream",
     "text": [
      "                                                                                \r"
     ]
    },
    {
     "name": "stdout",
     "output_type": "stream",
     "text": [
      "Batch 199 complete - 5,000 records written\n",
      "\n",
      "Processing batch 200/323 (995,000 to 1,000,000 records)\n"
     ]
    },
    {
     "name": "stderr",
     "output_type": "stream",
     "text": [
      "                                                                                \r"
     ]
    },
    {
     "name": "stdout",
     "output_type": "stream",
     "text": [
      "Batch 200 complete - 5,000 records written\n",
      "\n",
      "Processing batch 201/323 (1,000,000 to 1,005,000 records)\n"
     ]
    },
    {
     "name": "stderr",
     "output_type": "stream",
     "text": [
      "                                                                                \r"
     ]
    },
    {
     "name": "stdout",
     "output_type": "stream",
     "text": [
      "Batch 201 complete - 5,000 records written\n",
      "\n",
      "Processing batch 202/323 (1,005,000 to 1,010,000 records)\n"
     ]
    },
    {
     "name": "stderr",
     "output_type": "stream",
     "text": [
      "                                                                                \r"
     ]
    },
    {
     "name": "stdout",
     "output_type": "stream",
     "text": [
      "Batch 202 complete - 5,000 records written\n",
      "\n",
      "Processing batch 203/323 (1,010,000 to 1,015,000 records)\n"
     ]
    },
    {
     "name": "stderr",
     "output_type": "stream",
     "text": [
      "                                                                                \r"
     ]
    },
    {
     "name": "stdout",
     "output_type": "stream",
     "text": [
      "Batch 203 complete - 5,000 records written\n",
      "\n",
      "Processing batch 204/323 (1,015,000 to 1,020,000 records)\n"
     ]
    },
    {
     "name": "stderr",
     "output_type": "stream",
     "text": [
      "                                                                                \r"
     ]
    },
    {
     "name": "stdout",
     "output_type": "stream",
     "text": [
      "Batch 204 complete - 5,000 records written\n",
      "\n",
      "Processing batch 205/323 (1,020,000 to 1,025,000 records)\n"
     ]
    },
    {
     "name": "stderr",
     "output_type": "stream",
     "text": [
      "                                                                                \r"
     ]
    },
    {
     "name": "stdout",
     "output_type": "stream",
     "text": [
      "Batch 205 complete - 5,000 records written\n",
      "\n",
      "Processing batch 206/323 (1,025,000 to 1,030,000 records)\n"
     ]
    },
    {
     "name": "stderr",
     "output_type": "stream",
     "text": [
      "                                                                                \r"
     ]
    },
    {
     "name": "stdout",
     "output_type": "stream",
     "text": [
      "Batch 206 complete - 5,000 records written\n",
      "\n",
      "Processing batch 207/323 (1,030,000 to 1,035,000 records)\n"
     ]
    },
    {
     "name": "stderr",
     "output_type": "stream",
     "text": [
      "                                                                                \r"
     ]
    },
    {
     "name": "stdout",
     "output_type": "stream",
     "text": [
      "Batch 207 complete - 5,000 records written\n",
      "\n",
      "Processing batch 208/323 (1,035,000 to 1,040,000 records)\n"
     ]
    },
    {
     "name": "stderr",
     "output_type": "stream",
     "text": [
      "                                                                                \r"
     ]
    },
    {
     "name": "stdout",
     "output_type": "stream",
     "text": [
      "Batch 208 complete - 5,000 records written\n",
      "\n",
      "Processing batch 209/323 (1,040,000 to 1,045,000 records)\n"
     ]
    },
    {
     "name": "stderr",
     "output_type": "stream",
     "text": [
      "                                                                                \r"
     ]
    },
    {
     "name": "stdout",
     "output_type": "stream",
     "text": [
      "Batch 209 complete - 5,000 records written\n",
      "\n",
      "Processing batch 210/323 (1,045,000 to 1,050,000 records)\n"
     ]
    },
    {
     "name": "stderr",
     "output_type": "stream",
     "text": [
      "                                                                                \r"
     ]
    },
    {
     "name": "stdout",
     "output_type": "stream",
     "text": [
      "Batch 210 complete - 5,000 records written\n",
      "\n",
      "Processing batch 211/323 (1,050,000 to 1,055,000 records)\n"
     ]
    },
    {
     "name": "stderr",
     "output_type": "stream",
     "text": [
      "                                                                                \r"
     ]
    },
    {
     "name": "stdout",
     "output_type": "stream",
     "text": [
      "Batch 211 complete - 5,000 records written\n",
      "\n",
      "Processing batch 212/323 (1,055,000 to 1,060,000 records)\n"
     ]
    },
    {
     "name": "stderr",
     "output_type": "stream",
     "text": [
      "                                                                                \r"
     ]
    },
    {
     "name": "stdout",
     "output_type": "stream",
     "text": [
      "Batch 212 complete - 5,000 records written\n",
      "\n",
      "Processing batch 213/323 (1,060,000 to 1,065,000 records)\n"
     ]
    },
    {
     "name": "stderr",
     "output_type": "stream",
     "text": [
      "                                                                                \r"
     ]
    },
    {
     "name": "stdout",
     "output_type": "stream",
     "text": [
      "Batch 213 complete - 5,000 records written\n",
      "\n",
      "Processing batch 214/323 (1,065,000 to 1,070,000 records)\n"
     ]
    },
    {
     "name": "stderr",
     "output_type": "stream",
     "text": [
      "                                                                                \r"
     ]
    },
    {
     "name": "stdout",
     "output_type": "stream",
     "text": [
      "Batch 214 complete - 5,000 records written\n",
      "\n",
      "Processing batch 215/323 (1,070,000 to 1,075,000 records)\n"
     ]
    },
    {
     "name": "stderr",
     "output_type": "stream",
     "text": [
      "                                                                                \r"
     ]
    },
    {
     "name": "stdout",
     "output_type": "stream",
     "text": [
      "Batch 215 complete - 5,000 records written\n",
      "\n",
      "Processing batch 216/323 (1,075,000 to 1,080,000 records)\n"
     ]
    },
    {
     "name": "stderr",
     "output_type": "stream",
     "text": [
      "                                                                                \r"
     ]
    },
    {
     "name": "stdout",
     "output_type": "stream",
     "text": [
      "Batch 216 complete - 5,000 records written\n",
      "\n",
      "Processing batch 217/323 (1,080,000 to 1,085,000 records)\n"
     ]
    },
    {
     "name": "stderr",
     "output_type": "stream",
     "text": [
      "                                                                                \r"
     ]
    },
    {
     "name": "stdout",
     "output_type": "stream",
     "text": [
      "Batch 217 complete - 5,000 records written\n",
      "\n",
      "Processing batch 218/323 (1,085,000 to 1,090,000 records)\n"
     ]
    },
    {
     "name": "stderr",
     "output_type": "stream",
     "text": [
      "                                                                                \r"
     ]
    },
    {
     "name": "stdout",
     "output_type": "stream",
     "text": [
      "Batch 218 complete - 5,000 records written\n",
      "\n",
      "Processing batch 219/323 (1,090,000 to 1,095,000 records)\n"
     ]
    },
    {
     "name": "stderr",
     "output_type": "stream",
     "text": [
      "                                                                                \r"
     ]
    },
    {
     "name": "stdout",
     "output_type": "stream",
     "text": [
      "Batch 219 complete - 5,000 records written\n",
      "\n",
      "Processing batch 220/323 (1,095,000 to 1,100,000 records)\n"
     ]
    },
    {
     "name": "stderr",
     "output_type": "stream",
     "text": [
      "                                                                                \r"
     ]
    },
    {
     "name": "stdout",
     "output_type": "stream",
     "text": [
      "Batch 220 complete - 5,000 records written\n",
      "\n",
      "Processing batch 221/323 (1,100,000 to 1,105,000 records)\n"
     ]
    },
    {
     "name": "stderr",
     "output_type": "stream",
     "text": [
      "                                                                                \r"
     ]
    },
    {
     "name": "stdout",
     "output_type": "stream",
     "text": [
      "Batch 221 complete - 5,000 records written\n",
      "\n",
      "Processing batch 222/323 (1,105,000 to 1,110,000 records)\n"
     ]
    },
    {
     "name": "stderr",
     "output_type": "stream",
     "text": [
      "                                                                                \r"
     ]
    },
    {
     "name": "stdout",
     "output_type": "stream",
     "text": [
      "Batch 222 complete - 5,000 records written\n",
      "\n",
      "Processing batch 223/323 (1,110,000 to 1,115,000 records)\n"
     ]
    },
    {
     "name": "stderr",
     "output_type": "stream",
     "text": [
      "                                                                                \r"
     ]
    },
    {
     "name": "stdout",
     "output_type": "stream",
     "text": [
      "Batch 223 complete - 5,000 records written\n",
      "\n",
      "Processing batch 224/323 (1,115,000 to 1,120,000 records)\n"
     ]
    },
    {
     "name": "stderr",
     "output_type": "stream",
     "text": [
      "                                                                                \r"
     ]
    },
    {
     "name": "stdout",
     "output_type": "stream",
     "text": [
      "Batch 224 complete - 5,000 records written\n",
      "\n",
      "Processing batch 225/323 (1,120,000 to 1,125,000 records)\n"
     ]
    },
    {
     "name": "stderr",
     "output_type": "stream",
     "text": [
      "                                                                                \r"
     ]
    },
    {
     "name": "stdout",
     "output_type": "stream",
     "text": [
      "Batch 225 complete - 5,000 records written\n",
      "\n",
      "Processing batch 226/323 (1,125,000 to 1,130,000 records)\n"
     ]
    },
    {
     "name": "stderr",
     "output_type": "stream",
     "text": [
      "                                                                                \r"
     ]
    },
    {
     "name": "stdout",
     "output_type": "stream",
     "text": [
      "Batch 226 complete - 5,000 records written\n",
      "\n",
      "Processing batch 227/323 (1,130,000 to 1,135,000 records)\n"
     ]
    },
    {
     "name": "stderr",
     "output_type": "stream",
     "text": [
      "                                                                                \r"
     ]
    },
    {
     "name": "stdout",
     "output_type": "stream",
     "text": [
      "Batch 227 complete - 5,000 records written\n",
      "\n",
      "Processing batch 228/323 (1,135,000 to 1,140,000 records)\n"
     ]
    },
    {
     "name": "stderr",
     "output_type": "stream",
     "text": [
      "                                                                                \r"
     ]
    },
    {
     "name": "stdout",
     "output_type": "stream",
     "text": [
      "Batch 228 complete - 5,000 records written\n",
      "\n",
      "Processing batch 229/323 (1,140,000 to 1,145,000 records)\n"
     ]
    },
    {
     "name": "stderr",
     "output_type": "stream",
     "text": [
      "                                                                                \r"
     ]
    },
    {
     "name": "stdout",
     "output_type": "stream",
     "text": [
      "Batch 229 complete - 5,000 records written\n",
      "\n",
      "Processing batch 230/323 (1,145,000 to 1,150,000 records)\n"
     ]
    },
    {
     "name": "stderr",
     "output_type": "stream",
     "text": [
      "                                                                                \r"
     ]
    },
    {
     "name": "stdout",
     "output_type": "stream",
     "text": [
      "Batch 230 complete - 5,000 records written\n",
      "\n",
      "Processing batch 231/323 (1,150,000 to 1,155,000 records)\n"
     ]
    },
    {
     "name": "stderr",
     "output_type": "stream",
     "text": [
      "                                                                                \r"
     ]
    },
    {
     "name": "stdout",
     "output_type": "stream",
     "text": [
      "Batch 231 complete - 5,000 records written\n",
      "\n",
      "Processing batch 232/323 (1,155,000 to 1,160,000 records)\n"
     ]
    },
    {
     "name": "stderr",
     "output_type": "stream",
     "text": [
      "                                                                                \r"
     ]
    },
    {
     "name": "stdout",
     "output_type": "stream",
     "text": [
      "Batch 232 complete - 5,000 records written\n",
      "\n",
      "Processing batch 233/323 (1,160,000 to 1,165,000 records)\n"
     ]
    },
    {
     "name": "stderr",
     "output_type": "stream",
     "text": [
      "                                                                                \r"
     ]
    },
    {
     "name": "stdout",
     "output_type": "stream",
     "text": [
      "Batch 233 complete - 5,000 records written\n",
      "\n",
      "Processing batch 234/323 (1,165,000 to 1,170,000 records)\n"
     ]
    },
    {
     "name": "stderr",
     "output_type": "stream",
     "text": [
      "                                                                                \r"
     ]
    },
    {
     "name": "stdout",
     "output_type": "stream",
     "text": [
      "Batch 234 complete - 5,000 records written\n",
      "\n",
      "Processing batch 235/323 (1,170,000 to 1,175,000 records)\n"
     ]
    },
    {
     "name": "stderr",
     "output_type": "stream",
     "text": [
      "                                                                                \r"
     ]
    },
    {
     "name": "stdout",
     "output_type": "stream",
     "text": [
      "Batch 235 complete - 5,000 records written\n",
      "\n",
      "Processing batch 236/323 (1,175,000 to 1,180,000 records)\n"
     ]
    },
    {
     "name": "stderr",
     "output_type": "stream",
     "text": [
      "                                                                                \r"
     ]
    },
    {
     "name": "stdout",
     "output_type": "stream",
     "text": [
      "Batch 236 complete - 5,000 records written\n",
      "\n",
      "Processing batch 237/323 (1,180,000 to 1,185,000 records)\n"
     ]
    },
    {
     "name": "stderr",
     "output_type": "stream",
     "text": [
      "                                                                                \r"
     ]
    },
    {
     "name": "stdout",
     "output_type": "stream",
     "text": [
      "Batch 237 complete - 5,000 records written\n",
      "\n",
      "Processing batch 238/323 (1,185,000 to 1,190,000 records)\n"
     ]
    },
    {
     "name": "stderr",
     "output_type": "stream",
     "text": [
      "                                                                                \r"
     ]
    },
    {
     "name": "stdout",
     "output_type": "stream",
     "text": [
      "Batch 238 complete - 5,000 records written\n",
      "\n",
      "Processing batch 239/323 (1,190,000 to 1,195,000 records)\n"
     ]
    },
    {
     "name": "stderr",
     "output_type": "stream",
     "text": [
      "                                                                                \r"
     ]
    },
    {
     "name": "stdout",
     "output_type": "stream",
     "text": [
      "Batch 239 complete - 5,000 records written\n",
      "\n",
      "Processing batch 240/323 (1,195,000 to 1,200,000 records)\n"
     ]
    },
    {
     "name": "stderr",
     "output_type": "stream",
     "text": [
      "                                                                                \r"
     ]
    },
    {
     "name": "stdout",
     "output_type": "stream",
     "text": [
      "Batch 240 complete - 5,000 records written\n",
      "\n",
      "Processing batch 241/323 (1,200,000 to 1,205,000 records)\n"
     ]
    },
    {
     "name": "stderr",
     "output_type": "stream",
     "text": [
      "                                                                                \r"
     ]
    },
    {
     "name": "stdout",
     "output_type": "stream",
     "text": [
      "Batch 241 complete - 5,000 records written\n",
      "\n",
      "Processing batch 242/323 (1,205,000 to 1,210,000 records)\n"
     ]
    },
    {
     "name": "stderr",
     "output_type": "stream",
     "text": [
      "                                                                                \r"
     ]
    },
    {
     "name": "stdout",
     "output_type": "stream",
     "text": [
      "Batch 242 complete - 5,000 records written\n",
      "\n",
      "Processing batch 243/323 (1,210,000 to 1,215,000 records)\n"
     ]
    },
    {
     "name": "stderr",
     "output_type": "stream",
     "text": [
      "                                                                                \r"
     ]
    },
    {
     "name": "stdout",
     "output_type": "stream",
     "text": [
      "Batch 243 complete - 5,000 records written\n",
      "\n",
      "Processing batch 244/323 (1,215,000 to 1,220,000 records)\n"
     ]
    },
    {
     "name": "stderr",
     "output_type": "stream",
     "text": [
      "                                                                                \r"
     ]
    },
    {
     "name": "stdout",
     "output_type": "stream",
     "text": [
      "Batch 244 complete - 5,000 records written\n",
      "\n",
      "Processing batch 245/323 (1,220,000 to 1,225,000 records)\n"
     ]
    },
    {
     "name": "stderr",
     "output_type": "stream",
     "text": [
      "                                                                                \r"
     ]
    },
    {
     "name": "stdout",
     "output_type": "stream",
     "text": [
      "Batch 245 complete - 5,000 records written\n",
      "\n",
      "Processing batch 246/323 (1,225,000 to 1,230,000 records)\n"
     ]
    },
    {
     "name": "stderr",
     "output_type": "stream",
     "text": [
      "                                                                                \r"
     ]
    },
    {
     "name": "stdout",
     "output_type": "stream",
     "text": [
      "Batch 246 complete - 5,000 records written\n",
      "\n",
      "Processing batch 247/323 (1,230,000 to 1,235,000 records)\n"
     ]
    },
    {
     "name": "stderr",
     "output_type": "stream",
     "text": [
      "                                                                                \r"
     ]
    },
    {
     "name": "stdout",
     "output_type": "stream",
     "text": [
      "Batch 247 complete - 5,000 records written\n",
      "\n",
      "Processing batch 248/323 (1,235,000 to 1,240,000 records)\n"
     ]
    },
    {
     "name": "stderr",
     "output_type": "stream",
     "text": [
      "                                                                                \r"
     ]
    },
    {
     "name": "stdout",
     "output_type": "stream",
     "text": [
      "Batch 248 complete - 5,000 records written\n",
      "\n",
      "Processing batch 249/323 (1,240,000 to 1,245,000 records)\n"
     ]
    },
    {
     "name": "stderr",
     "output_type": "stream",
     "text": [
      "                                                                                \r"
     ]
    },
    {
     "name": "stdout",
     "output_type": "stream",
     "text": [
      "Batch 249 complete - 5,000 records written\n",
      "\n",
      "Processing batch 250/323 (1,245,000 to 1,250,000 records)\n"
     ]
    },
    {
     "name": "stderr",
     "output_type": "stream",
     "text": [
      "                                                                                \r"
     ]
    },
    {
     "name": "stdout",
     "output_type": "stream",
     "text": [
      "Batch 250 complete - 5,000 records written\n",
      "\n",
      "Processing batch 251/323 (1,250,000 to 1,255,000 records)\n"
     ]
    },
    {
     "name": "stderr",
     "output_type": "stream",
     "text": [
      "                                                                                \r"
     ]
    },
    {
     "name": "stdout",
     "output_type": "stream",
     "text": [
      "Batch 251 complete - 5,000 records written\n",
      "\n",
      "Processing batch 252/323 (1,255,000 to 1,260,000 records)\n"
     ]
    },
    {
     "name": "stderr",
     "output_type": "stream",
     "text": [
      "                                                                                \r"
     ]
    },
    {
     "name": "stdout",
     "output_type": "stream",
     "text": [
      "Batch 252 complete - 5,000 records written\n",
      "\n",
      "Processing batch 253/323 (1,260,000 to 1,265,000 records)\n"
     ]
    },
    {
     "name": "stderr",
     "output_type": "stream",
     "text": [
      "                                                                                \r"
     ]
    },
    {
     "name": "stdout",
     "output_type": "stream",
     "text": [
      "Batch 253 complete - 5,000 records written\n",
      "\n",
      "Processing batch 254/323 (1,265,000 to 1,270,000 records)\n"
     ]
    },
    {
     "name": "stderr",
     "output_type": "stream",
     "text": [
      "                                                                                \r"
     ]
    },
    {
     "name": "stdout",
     "output_type": "stream",
     "text": [
      "Batch 254 complete - 5,000 records written\n",
      "\n",
      "Processing batch 255/323 (1,270,000 to 1,275,000 records)\n"
     ]
    },
    {
     "name": "stderr",
     "output_type": "stream",
     "text": [
      "                                                                                \r"
     ]
    },
    {
     "name": "stdout",
     "output_type": "stream",
     "text": [
      "Batch 255 complete - 5,000 records written\n",
      "\n",
      "Processing batch 256/323 (1,275,000 to 1,280,000 records)\n"
     ]
    },
    {
     "name": "stderr",
     "output_type": "stream",
     "text": [
      "                                                                                \r"
     ]
    },
    {
     "name": "stdout",
     "output_type": "stream",
     "text": [
      "Batch 256 complete - 5,000 records written\n",
      "\n",
      "Processing batch 257/323 (1,280,000 to 1,285,000 records)\n"
     ]
    },
    {
     "name": "stderr",
     "output_type": "stream",
     "text": [
      "                                                                                \r"
     ]
    },
    {
     "name": "stdout",
     "output_type": "stream",
     "text": [
      "Batch 257 complete - 5,000 records written\n",
      "\n",
      "Processing batch 258/323 (1,285,000 to 1,290,000 records)\n"
     ]
    },
    {
     "name": "stderr",
     "output_type": "stream",
     "text": [
      "                                                                                \r"
     ]
    },
    {
     "name": "stdout",
     "output_type": "stream",
     "text": [
      "Batch 258 complete - 5,000 records written\n",
      "\n",
      "Processing batch 259/323 (1,290,000 to 1,295,000 records)\n"
     ]
    },
    {
     "name": "stderr",
     "output_type": "stream",
     "text": [
      "                                                                                \r"
     ]
    },
    {
     "name": "stdout",
     "output_type": "stream",
     "text": [
      "Batch 259 complete - 5,000 records written\n",
      "\n",
      "Processing batch 260/323 (1,295,000 to 1,300,000 records)\n"
     ]
    },
    {
     "name": "stderr",
     "output_type": "stream",
     "text": [
      "                                                                                \r"
     ]
    },
    {
     "name": "stdout",
     "output_type": "stream",
     "text": [
      "Batch 260 complete - 5,000 records written\n",
      "\n",
      "Processing batch 261/323 (1,300,000 to 1,305,000 records)\n"
     ]
    },
    {
     "name": "stderr",
     "output_type": "stream",
     "text": [
      "                                                                                \r"
     ]
    },
    {
     "name": "stdout",
     "output_type": "stream",
     "text": [
      "Batch 261 complete - 5,000 records written\n",
      "\n",
      "Processing batch 262/323 (1,305,000 to 1,310,000 records)\n"
     ]
    },
    {
     "name": "stderr",
     "output_type": "stream",
     "text": [
      "                                                                                \r"
     ]
    },
    {
     "name": "stdout",
     "output_type": "stream",
     "text": [
      "Batch 262 complete - 5,000 records written\n",
      "\n",
      "Processing batch 263/323 (1,310,000 to 1,315,000 records)\n"
     ]
    },
    {
     "name": "stderr",
     "output_type": "stream",
     "text": [
      "                                                                                \r"
     ]
    },
    {
     "name": "stdout",
     "output_type": "stream",
     "text": [
      "Batch 263 complete - 5,000 records written\n",
      "\n",
      "Processing batch 264/323 (1,315,000 to 1,320,000 records)\n"
     ]
    },
    {
     "name": "stderr",
     "output_type": "stream",
     "text": [
      "                                                                                \r"
     ]
    },
    {
     "name": "stdout",
     "output_type": "stream",
     "text": [
      "Batch 264 complete - 5,000 records written\n",
      "\n",
      "Processing batch 265/323 (1,320,000 to 1,325,000 records)\n"
     ]
    },
    {
     "name": "stderr",
     "output_type": "stream",
     "text": [
      "                                                                                \r"
     ]
    },
    {
     "name": "stdout",
     "output_type": "stream",
     "text": [
      "Batch 265 complete - 5,000 records written\n",
      "\n",
      "Processing batch 266/323 (1,325,000 to 1,330,000 records)\n"
     ]
    },
    {
     "name": "stderr",
     "output_type": "stream",
     "text": [
      "                                                                                \r"
     ]
    },
    {
     "name": "stdout",
     "output_type": "stream",
     "text": [
      "Batch 266 complete - 5,000 records written\n",
      "\n",
      "Processing batch 267/323 (1,330,000 to 1,335,000 records)\n"
     ]
    },
    {
     "name": "stderr",
     "output_type": "stream",
     "text": [
      "                                                                                \r"
     ]
    },
    {
     "name": "stdout",
     "output_type": "stream",
     "text": [
      "Batch 267 complete - 5,000 records written\n",
      "\n",
      "Processing batch 268/323 (1,335,000 to 1,340,000 records)\n"
     ]
    },
    {
     "name": "stderr",
     "output_type": "stream",
     "text": [
      "                                                                                \r"
     ]
    },
    {
     "name": "stdout",
     "output_type": "stream",
     "text": [
      "Batch 268 complete - 5,000 records written\n",
      "\n",
      "Processing batch 269/323 (1,340,000 to 1,345,000 records)\n"
     ]
    },
    {
     "name": "stderr",
     "output_type": "stream",
     "text": [
      "                                                                                \r"
     ]
    },
    {
     "name": "stdout",
     "output_type": "stream",
     "text": [
      "Batch 269 complete - 5,000 records written\n",
      "\n",
      "Processing batch 270/323 (1,345,000 to 1,350,000 records)\n"
     ]
    },
    {
     "name": "stderr",
     "output_type": "stream",
     "text": [
      "                                                                                \r"
     ]
    },
    {
     "name": "stdout",
     "output_type": "stream",
     "text": [
      "Batch 270 complete - 5,000 records written\n",
      "\n",
      "Processing batch 271/323 (1,350,000 to 1,355,000 records)\n"
     ]
    },
    {
     "name": "stderr",
     "output_type": "stream",
     "text": [
      "                                                                                \r"
     ]
    },
    {
     "name": "stdout",
     "output_type": "stream",
     "text": [
      "Batch 271 complete - 5,000 records written\n",
      "\n",
      "Processing batch 272/323 (1,355,000 to 1,360,000 records)\n"
     ]
    },
    {
     "name": "stderr",
     "output_type": "stream",
     "text": [
      "                                                                                \r"
     ]
    },
    {
     "name": "stdout",
     "output_type": "stream",
     "text": [
      "Batch 272 complete - 5,000 records written\n",
      "\n",
      "Processing batch 273/323 (1,360,000 to 1,365,000 records)\n"
     ]
    },
    {
     "name": "stderr",
     "output_type": "stream",
     "text": [
      "                                                                                \r"
     ]
    },
    {
     "name": "stdout",
     "output_type": "stream",
     "text": [
      "Batch 273 complete - 5,000 records written\n",
      "\n",
      "Processing batch 274/323 (1,365,000 to 1,370,000 records)\n"
     ]
    },
    {
     "name": "stderr",
     "output_type": "stream",
     "text": [
      "                                                                                \r"
     ]
    },
    {
     "name": "stdout",
     "output_type": "stream",
     "text": [
      "Batch 274 complete - 5,000 records written\n",
      "\n",
      "Processing batch 275/323 (1,370,000 to 1,375,000 records)\n"
     ]
    },
    {
     "name": "stderr",
     "output_type": "stream",
     "text": [
      "                                                                                \r"
     ]
    },
    {
     "name": "stdout",
     "output_type": "stream",
     "text": [
      "Batch 275 complete - 5,000 records written\n",
      "\n",
      "Processing batch 276/323 (1,375,000 to 1,380,000 records)\n"
     ]
    },
    {
     "name": "stderr",
     "output_type": "stream",
     "text": [
      "                                                                                \r"
     ]
    },
    {
     "name": "stdout",
     "output_type": "stream",
     "text": [
      "Batch 276 complete - 5,000 records written\n",
      "\n",
      "Processing batch 277/323 (1,380,000 to 1,385,000 records)\n"
     ]
    },
    {
     "name": "stderr",
     "output_type": "stream",
     "text": [
      "                                                                                \r"
     ]
    },
    {
     "name": "stdout",
     "output_type": "stream",
     "text": [
      "Batch 277 complete - 5,000 records written\n",
      "\n",
      "Processing batch 278/323 (1,385,000 to 1,390,000 records)\n"
     ]
    },
    {
     "name": "stderr",
     "output_type": "stream",
     "text": [
      "                                                                                \r"
     ]
    },
    {
     "name": "stdout",
     "output_type": "stream",
     "text": [
      "Batch 278 complete - 5,000 records written\n",
      "\n",
      "Processing batch 279/323 (1,390,000 to 1,395,000 records)\n"
     ]
    },
    {
     "name": "stderr",
     "output_type": "stream",
     "text": [
      "                                                                                \r"
     ]
    },
    {
     "name": "stdout",
     "output_type": "stream",
     "text": [
      "Batch 279 complete - 5,000 records written\n",
      "\n",
      "Processing batch 280/323 (1,395,000 to 1,400,000 records)\n"
     ]
    },
    {
     "name": "stderr",
     "output_type": "stream",
     "text": [
      "                                                                                \r"
     ]
    },
    {
     "name": "stdout",
     "output_type": "stream",
     "text": [
      "Batch 280 complete - 5,000 records written\n",
      "\n",
      "Processing batch 281/323 (1,400,000 to 1,405,000 records)\n"
     ]
    },
    {
     "name": "stderr",
     "output_type": "stream",
     "text": [
      "                                                                                \r"
     ]
    },
    {
     "name": "stdout",
     "output_type": "stream",
     "text": [
      "Batch 281 complete - 5,000 records written\n",
      "\n",
      "Processing batch 282/323 (1,405,000 to 1,410,000 records)\n"
     ]
    },
    {
     "name": "stderr",
     "output_type": "stream",
     "text": [
      "                                                                                \r"
     ]
    },
    {
     "name": "stdout",
     "output_type": "stream",
     "text": [
      "Batch 282 complete - 5,000 records written\n",
      "\n",
      "Processing batch 283/323 (1,410,000 to 1,415,000 records)\n"
     ]
    },
    {
     "name": "stderr",
     "output_type": "stream",
     "text": [
      "                                                                                \r"
     ]
    },
    {
     "name": "stdout",
     "output_type": "stream",
     "text": [
      "Batch 283 complete - 5,000 records written\n",
      "\n",
      "Processing batch 284/323 (1,415,000 to 1,420,000 records)\n"
     ]
    },
    {
     "name": "stderr",
     "output_type": "stream",
     "text": [
      "                                                                                \r"
     ]
    },
    {
     "name": "stdout",
     "output_type": "stream",
     "text": [
      "Batch 284 complete - 5,000 records written\n",
      "\n",
      "Processing batch 285/323 (1,420,000 to 1,425,000 records)\n"
     ]
    },
    {
     "name": "stderr",
     "output_type": "stream",
     "text": [
      "                                                                                \r"
     ]
    },
    {
     "name": "stdout",
     "output_type": "stream",
     "text": [
      "Batch 285 complete - 5,000 records written\n",
      "\n",
      "Processing batch 286/323 (1,425,000 to 1,430,000 records)\n"
     ]
    },
    {
     "name": "stderr",
     "output_type": "stream",
     "text": [
      "                                                                                \r"
     ]
    },
    {
     "name": "stdout",
     "output_type": "stream",
     "text": [
      "Batch 286 complete - 5,000 records written\n",
      "\n",
      "Processing batch 287/323 (1,430,000 to 1,435,000 records)\n"
     ]
    },
    {
     "name": "stderr",
     "output_type": "stream",
     "text": [
      "                                                                                \r"
     ]
    },
    {
     "name": "stdout",
     "output_type": "stream",
     "text": [
      "Batch 287 complete - 5,000 records written\n",
      "\n",
      "Processing batch 288/323 (1,435,000 to 1,440,000 records)\n"
     ]
    },
    {
     "name": "stderr",
     "output_type": "stream",
     "text": [
      "                                                                                \r"
     ]
    },
    {
     "name": "stdout",
     "output_type": "stream",
     "text": [
      "Batch 288 complete - 5,000 records written\n",
      "\n",
      "Processing batch 289/323 (1,440,000 to 1,445,000 records)\n"
     ]
    },
    {
     "name": "stderr",
     "output_type": "stream",
     "text": [
      "                                                                                \r"
     ]
    },
    {
     "name": "stdout",
     "output_type": "stream",
     "text": [
      "Batch 289 complete - 5,000 records written\n",
      "\n",
      "Processing batch 290/323 (1,445,000 to 1,450,000 records)\n"
     ]
    },
    {
     "name": "stderr",
     "output_type": "stream",
     "text": [
      "                                                                                \r"
     ]
    },
    {
     "name": "stdout",
     "output_type": "stream",
     "text": [
      "Batch 290 complete - 5,000 records written\n",
      "\n",
      "Processing batch 291/323 (1,450,000 to 1,455,000 records)\n"
     ]
    },
    {
     "name": "stderr",
     "output_type": "stream",
     "text": [
      "                                                                                \r"
     ]
    },
    {
     "name": "stdout",
     "output_type": "stream",
     "text": [
      "Batch 291 complete - 5,000 records written\n",
      "\n",
      "Processing batch 292/323 (1,455,000 to 1,460,000 records)\n"
     ]
    },
    {
     "name": "stderr",
     "output_type": "stream",
     "text": [
      "                                                                                \r"
     ]
    },
    {
     "name": "stdout",
     "output_type": "stream",
     "text": [
      "Batch 292 complete - 5,000 records written\n",
      "\n",
      "Processing batch 293/323 (1,460,000 to 1,465,000 records)\n"
     ]
    },
    {
     "name": "stderr",
     "output_type": "stream",
     "text": [
      "                                                                                \r"
     ]
    },
    {
     "name": "stdout",
     "output_type": "stream",
     "text": [
      "Batch 293 complete - 5,000 records written\n",
      "\n",
      "Processing batch 294/323 (1,465,000 to 1,470,000 records)\n"
     ]
    },
    {
     "name": "stderr",
     "output_type": "stream",
     "text": [
      "                                                                                \r"
     ]
    },
    {
     "name": "stdout",
     "output_type": "stream",
     "text": [
      "Batch 294 complete - 5,000 records written\n",
      "\n",
      "Processing batch 295/323 (1,470,000 to 1,475,000 records)\n"
     ]
    },
    {
     "name": "stderr",
     "output_type": "stream",
     "text": [
      "                                                                                \r"
     ]
    },
    {
     "name": "stdout",
     "output_type": "stream",
     "text": [
      "Batch 295 complete - 5,000 records written\n",
      "\n",
      "Processing batch 296/323 (1,475,000 to 1,480,000 records)\n"
     ]
    },
    {
     "name": "stderr",
     "output_type": "stream",
     "text": [
      "                                                                                \r"
     ]
    },
    {
     "name": "stdout",
     "output_type": "stream",
     "text": [
      "Batch 296 complete - 5,000 records written\n",
      "\n",
      "Processing batch 297/323 (1,480,000 to 1,485,000 records)\n"
     ]
    },
    {
     "name": "stderr",
     "output_type": "stream",
     "text": [
      "                                                                                \r"
     ]
    },
    {
     "name": "stdout",
     "output_type": "stream",
     "text": [
      "Batch 297 complete - 5,000 records written\n",
      "\n",
      "Processing batch 298/323 (1,485,000 to 1,490,000 records)\n"
     ]
    },
    {
     "name": "stderr",
     "output_type": "stream",
     "text": [
      "                                                                                \r"
     ]
    },
    {
     "name": "stdout",
     "output_type": "stream",
     "text": [
      "Batch 298 complete - 5,000 records written\n",
      "\n",
      "Processing batch 299/323 (1,490,000 to 1,495,000 records)\n"
     ]
    },
    {
     "name": "stderr",
     "output_type": "stream",
     "text": [
      "                                                                                \r"
     ]
    },
    {
     "name": "stdout",
     "output_type": "stream",
     "text": [
      "Batch 299 complete - 5,000 records written\n",
      "\n",
      "Processing batch 300/323 (1,495,000 to 1,500,000 records)\n"
     ]
    },
    {
     "name": "stderr",
     "output_type": "stream",
     "text": [
      "                                                                                \r"
     ]
    },
    {
     "name": "stdout",
     "output_type": "stream",
     "text": [
      "Batch 300 complete - 5,000 records written\n",
      "\n",
      "Processing batch 301/323 (1,500,000 to 1,505,000 records)\n"
     ]
    },
    {
     "name": "stderr",
     "output_type": "stream",
     "text": [
      "                                                                                \r"
     ]
    },
    {
     "name": "stdout",
     "output_type": "stream",
     "text": [
      "Batch 301 complete - 5,000 records written\n",
      "\n",
      "Processing batch 302/323 (1,505,000 to 1,510,000 records)\n"
     ]
    },
    {
     "name": "stderr",
     "output_type": "stream",
     "text": [
      "                                                                                \r"
     ]
    },
    {
     "name": "stdout",
     "output_type": "stream",
     "text": [
      "Batch 302 complete - 5,000 records written\n",
      "\n",
      "Processing batch 303/323 (1,510,000 to 1,515,000 records)\n"
     ]
    },
    {
     "name": "stderr",
     "output_type": "stream",
     "text": [
      "                                                                                \r"
     ]
    },
    {
     "name": "stdout",
     "output_type": "stream",
     "text": [
      "Batch 303 complete - 5,000 records written\n",
      "\n",
      "Processing batch 304/323 (1,515,000 to 1,520,000 records)\n"
     ]
    },
    {
     "name": "stderr",
     "output_type": "stream",
     "text": [
      "                                                                                \r"
     ]
    },
    {
     "name": "stdout",
     "output_type": "stream",
     "text": [
      "Batch 304 complete - 5,000 records written\n",
      "\n",
      "Processing batch 305/323 (1,520,000 to 1,525,000 records)\n"
     ]
    },
    {
     "name": "stderr",
     "output_type": "stream",
     "text": [
      "                                                                                \r"
     ]
    },
    {
     "name": "stdout",
     "output_type": "stream",
     "text": [
      "Batch 305 complete - 5,000 records written\n",
      "\n",
      "Processing batch 306/323 (1,525,000 to 1,530,000 records)\n"
     ]
    },
    {
     "name": "stderr",
     "output_type": "stream",
     "text": [
      "                                                                                \r"
     ]
    },
    {
     "name": "stdout",
     "output_type": "stream",
     "text": [
      "Batch 306 complete - 5,000 records written\n",
      "\n",
      "Processing batch 307/323 (1,530,000 to 1,535,000 records)\n"
     ]
    },
    {
     "name": "stderr",
     "output_type": "stream",
     "text": [
      "                                                                                \r"
     ]
    },
    {
     "name": "stdout",
     "output_type": "stream",
     "text": [
      "Batch 307 complete - 5,000 records written\n",
      "\n",
      "Processing batch 308/323 (1,535,000 to 1,540,000 records)\n"
     ]
    },
    {
     "name": "stderr",
     "output_type": "stream",
     "text": [
      "                                                                                \r"
     ]
    },
    {
     "name": "stdout",
     "output_type": "stream",
     "text": [
      "Batch 308 complete - 5,000 records written\n",
      "\n",
      "Processing batch 309/323 (1,540,000 to 1,545,000 records)\n"
     ]
    },
    {
     "name": "stderr",
     "output_type": "stream",
     "text": [
      "                                                                                \r"
     ]
    },
    {
     "name": "stdout",
     "output_type": "stream",
     "text": [
      "Batch 309 complete - 5,000 records written\n",
      "\n",
      "Processing batch 310/323 (1,545,000 to 1,550,000 records)\n"
     ]
    },
    {
     "name": "stderr",
     "output_type": "stream",
     "text": [
      "                                                                                \r"
     ]
    },
    {
     "name": "stdout",
     "output_type": "stream",
     "text": [
      "Batch 310 complete - 5,000 records written\n",
      "\n",
      "Processing batch 311/323 (1,550,000 to 1,555,000 records)\n"
     ]
    },
    {
     "name": "stderr",
     "output_type": "stream",
     "text": [
      "                                                                                \r"
     ]
    },
    {
     "name": "stdout",
     "output_type": "stream",
     "text": [
      "Batch 311 complete - 5,000 records written\n",
      "\n",
      "Processing batch 312/323 (1,555,000 to 1,560,000 records)\n"
     ]
    },
    {
     "name": "stderr",
     "output_type": "stream",
     "text": [
      "                                                                                \r"
     ]
    },
    {
     "name": "stdout",
     "output_type": "stream",
     "text": [
      "Batch 312 complete - 5,000 records written\n",
      "\n",
      "Processing batch 313/323 (1,560,000 to 1,565,000 records)\n"
     ]
    },
    {
     "name": "stderr",
     "output_type": "stream",
     "text": [
      "                                                                                \r"
     ]
    },
    {
     "name": "stdout",
     "output_type": "stream",
     "text": [
      "Batch 313 complete - 5,000 records written\n",
      "\n",
      "Processing batch 314/323 (1,565,000 to 1,570,000 records)\n"
     ]
    },
    {
     "name": "stderr",
     "output_type": "stream",
     "text": [
      "                                                                                \r"
     ]
    },
    {
     "name": "stdout",
     "output_type": "stream",
     "text": [
      "Batch 314 complete - 5,000 records written\n",
      "\n",
      "Processing batch 315/323 (1,570,000 to 1,575,000 records)\n"
     ]
    },
    {
     "name": "stderr",
     "output_type": "stream",
     "text": [
      "                                                                                \r"
     ]
    },
    {
     "name": "stdout",
     "output_type": "stream",
     "text": [
      "Batch 315 complete - 5,000 records written\n",
      "\n",
      "Processing batch 316/323 (1,575,000 to 1,580,000 records)\n"
     ]
    },
    {
     "name": "stderr",
     "output_type": "stream",
     "text": [
      "                                                                                \r"
     ]
    },
    {
     "name": "stdout",
     "output_type": "stream",
     "text": [
      "Batch 316 complete - 5,000 records written\n",
      "\n",
      "Processing batch 317/323 (1,580,000 to 1,585,000 records)\n"
     ]
    },
    {
     "name": "stderr",
     "output_type": "stream",
     "text": [
      "                                                                                \r"
     ]
    },
    {
     "name": "stdout",
     "output_type": "stream",
     "text": [
      "Batch 317 complete - 5,000 records written\n",
      "\n",
      "Processing batch 318/323 (1,585,000 to 1,590,000 records)\n"
     ]
    },
    {
     "name": "stderr",
     "output_type": "stream",
     "text": [
      "                                                                                \r"
     ]
    },
    {
     "name": "stdout",
     "output_type": "stream",
     "text": [
      "Batch 318 complete - 5,000 records written\n",
      "\n",
      "Processing batch 319/323 (1,590,000 to 1,595,000 records)\n"
     ]
    },
    {
     "name": "stderr",
     "output_type": "stream",
     "text": [
      "                                                                                \r"
     ]
    },
    {
     "name": "stdout",
     "output_type": "stream",
     "text": [
      "Batch 319 complete - 5,000 records written\n",
      "\n",
      "Processing batch 320/323 (1,595,000 to 1,600,000 records)\n"
     ]
    },
    {
     "name": "stderr",
     "output_type": "stream",
     "text": [
      "                                                                                \r"
     ]
    },
    {
     "name": "stdout",
     "output_type": "stream",
     "text": [
      "Batch 320 complete - 5,000 records written\n",
      "\n",
      "Processing batch 321/323 (1,600,000 to 1,605,000 records)\n"
     ]
    },
    {
     "name": "stderr",
     "output_type": "stream",
     "text": [
      "                                                                                \r"
     ]
    },
    {
     "name": "stdout",
     "output_type": "stream",
     "text": [
      "Batch 321 complete - 5,000 records written\n",
      "\n",
      "Processing batch 322/323 (1,605,000 to 1,610,000 records)\n"
     ]
    },
    {
     "name": "stderr",
     "output_type": "stream",
     "text": [
      "                                                                                \r"
     ]
    },
    {
     "name": "stdout",
     "output_type": "stream",
     "text": [
      "Batch 322 complete - 5,000 records written\n",
      "\n",
      "Processing batch 323/323 (1,610,000 to 1,610,355 records)\n"
     ]
    },
    {
     "name": "stderr",
     "output_type": "stream",
     "text": [
      "                                                                                \r"
     ]
    },
    {
     "name": "stdout",
     "output_type": "stream",
     "text": [
      "Batch 323 complete - 355 records written\n",
      "\n",
      "CSV export completed at 08:52:57\n",
      "Data saved to: cleaned_job_data_using_spark.csv\n",
      "Total lines in output file: 1,610,356 (including header)\n"
     ]
    }
   ],
   "source": [
    "write_data_to_csv(sc, final_data, header, \"cleaned_job_data_using_spark.csv\")\n"
   ]
  },
  {
   "cell_type": "code",
   "execution_count": null,
   "metadata": {},
   "outputs": [
    {
     "ename": "NameError",
     "evalue": "name 'stats_header' is not defined",
     "output_type": "error",
     "traceback": [
      "\u001b[0;31m---------------------------------------------------------------------------\u001b[0m",
      "\u001b[0;31mNameError\u001b[0m                                 Traceback (most recent call last)",
      "Cell \u001b[0;32mIn[7], line 1\u001b[0m\n\u001b[0;32m----> 1\u001b[0m write_stats_to_csv(sc, stats, \u001b[43mstats_header\u001b[49m, \u001b[38;5;124m\"\u001b[39m\u001b[38;5;124msalary_stats.csv\u001b[39m\u001b[38;5;124m\"\u001b[39m)\n",
      "\u001b[0;31mNameError\u001b[0m: name 'stats_header' is not defined"
     ]
    }
   ],
   "source": []
  },
  {
   "cell_type": "code",
   "execution_count": null,
   "metadata": {},
   "outputs": [
    {
     "ename": "",
     "evalue": "",
     "output_type": "error",
     "traceback": [
      "\u001b[1;31mThe Kernel crashed while executing code in the current cell or a previous cell. \n",
      "\u001b[1;31mPlease review the code in the cell(s) to identify a possible cause of the failure. \n",
      "\u001b[1;31mClick <a href='https://aka.ms/vscodeJupyterKernelCrash'>here</a> for more info. \n",
      "\u001b[1;31mView Jupyter <a href='command:jupyter.viewOutput'>log</a> for further details."
     ]
    }
   ],
   "source": [
    "\"\"\" # Save statistics to a separate CSV\n",
    "stats_header = \"company,avg_salary\"\n",
    "stats_csv_rdd = sc.parallelize([stats_header]) \\\n",
    "    .union(sc.parallelize(stats).map(lambda x: f\"{x[0]},{x[1]}\"))\n",
    "stats_csv_rdd.coalesce(1).saveAsTextFile(\"salary_stats.csv\")\n",
    "\n",
    "print(f\"\\nResults saved to:\")\n",
    "print(f\"- Job data: {output_path}\")\n",
    "print(f\"- Salary statistics: salary_stats.csv\") \"\"\""
   ]
  },
  {
   "cell_type": "code",
   "execution_count": null,
   "metadata": {},
   "outputs": [],
   "source": []
  },
  {
   "cell_type": "code",
   "execution_count": null,
   "metadata": {},
   "outputs": [],
   "source": []
  },
  {
   "cell_type": "code",
   "execution_count": null,
   "metadata": {},
   "outputs": [],
   "source": []
  },
  {
   "cell_type": "code",
   "execution_count": null,
   "metadata": {},
   "outputs": [],
   "source": []
  },
  {
   "cell_type": "code",
   "execution_count": null,
   "metadata": {},
   "outputs": [
    {
     "ename": "SyntaxError",
     "evalue": "invalid syntax (15193383.py, line 1)",
     "output_type": "error",
     "traceback": [
      "\u001b[0;36m  Cell \u001b[0;32mIn[10], line 1\u001b[0;36m\u001b[0m\n\u001b[0;31m    +\u001b[0m\n\u001b[0m     ^\u001b[0m\n\u001b[0;31mSyntaxError\u001b[0m\u001b[0;31m:\u001b[0m invalid syntax\n"
     ]
    }
   ],
   "source": [
    "+"
   ]
  }
 ],
 "metadata": {
  "kernelspec": {
   "display_name": "Python venv environment",
   "language": "python",
   "name": "venv_name"
  },
  "language_info": {
   "codemirror_mode": {
    "name": "ipython",
    "version": 3
   },
   "file_extension": ".py",
   "mimetype": "text/x-python",
   "name": "python",
   "nbconvert_exporter": "python",
   "pygments_lexer": "ipython3",
   "version": "3.12.3"
  }
 },
 "nbformat": 4,
 "nbformat_minor": 2
}
