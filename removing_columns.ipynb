import pandas as pd
from datetime import datetime

def process_csv(input_file, output_file):
    """
    Process CSV file to select and rename specific columns.
    
    Parameters:
    input_file (str): Path to input CSV file
    output_file (str): Path to output CSV file
    """
    # Read the CSV file
    df = pd.read_csv(input_file)
    
    # Extract salary range into min and max
    def extract_salary_range(salary_str):
        try:
            # Remove any currency symbols and convert to string
            salary_str = str(salary_str).replace('$', '').replace('£', '').replace('€', '')
            # Split the range and clean up
            parts = salary_str.replace(',', '').split('-')
            if len(parts) == 2:
                return pd.Series([float(parts[0].strip()), float(parts[1].strip())])
            else:
                return pd.Series([None, None])
        except:
            return pd.Series([None, None])
    
    # Apply salary range extraction
    df[['min_salary', 'max_salary']] = df['Salary Range'].apply(extract_salary_range)
    
    # Create new dataframe with selected columns and renamed
    new_df = pd.DataFrame({
        'job_description': df['Job Description'],
        'job_skills': df['skills'],
        'job_industry': df['Company Profile'],  # Using Company Profile as industry
        'job_location': df['location'] + ', ' + df['Country'],
        'experience_level': df['Experience'],
        'min_salary': df['min_salary'],
        'max_salary': df['max_salary'],
        'job_posting_date': pd.to_datetime(df['Job Posting Date']).dt.date
    })
    
    # Clean up any missing values
    new_df = new_df.replace('', pd.NA)
    new_df = new_df.replace('NaN', pd.NA)
    
    # Save to new CSV file
    new_df.to_csv(output_file, index=False)
    
    print(f"CSV file has been processed and saved to {output_file}")
    print(f"Number of records processed: {len(new_df)}")
    
    return new_df

# Example usage
if __name__ == "__main__":
    input_file = "/home/ubuntu/job_descriptions.csv" 
    output_file = "/home/ubuntu/job_descriptions_modified.csv"   
    
    processed_df = process_csv(input_file, output_file)